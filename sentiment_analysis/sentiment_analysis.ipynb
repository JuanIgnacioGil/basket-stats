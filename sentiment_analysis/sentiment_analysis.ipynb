{
 "cells": [
  {
   "cell_type": "markdown",
   "metadata": {},
   "source": [
    "# Sentiment Analysis on NBA top players’ Twitter Account\n",
    "\n",
    "Original code from Yen-Chen Chou: \n",
    "\n",
    "## Part1 Data Collection\n",
    "\n",
    "https://towardsdatascience.com/do-tweets-from-nba-leading-players-have-correlations-with-their-performance-7358c79aa216"
   ]
  },
  {
   "cell_type": "code",
   "execution_count": 1,
   "metadata": {},
   "outputs": [],
   "source": [
    "%load_ext autoreload\n",
    "%autoreload 2"
   ]
  },
  {
   "cell_type": "code",
   "execution_count": 2,
   "metadata": {},
   "outputs": [],
   "source": [
    "import data_collection"
   ]
  },
  {
   "cell_type": "code",
   "execution_count": 3,
   "metadata": {},
   "outputs": [],
   "source": [
    "api = data_collection.login_into_twitter()"
   ]
  },
  {
   "cell_type": "code",
   "execution_count": 4,
   "metadata": {},
   "outputs": [],
   "source": [
    "players = data_collection.get_best_players()"
   ]
  },
  {
   "cell_type": "code",
   "execution_count": 5,
   "metadata": {},
   "outputs": [
    {
     "data": {
      "text/plain": [
       "['Damian Lillard',\n",
       " 'Joel Embiid',\n",
       " 'Kawhi Leonard',\n",
       " 'Russell Westbrook',\n",
       " 'Anthony Davis',\n",
       " 'Giannis Antetokounmpo',\n",
       " 'Kevin Durant',\n",
       " 'James Harden',\n",
       " 'Stephen Curry',\n",
       " 'LeBron James']"
      ]
     },
     "execution_count": 5,
     "metadata": {},
     "output_type": "execute_result"
    }
   ],
   "source": [
    "players"
   ]
  },
  {
   "cell_type": "code",
   "execution_count": 6,
   "metadata": {},
   "outputs": [],
   "source": [
    "url_player_stats = data_collection.get_url_player_stats()"
   ]
  },
  {
   "cell_type": "code",
   "execution_count": 7,
   "metadata": {},
   "outputs": [],
   "source": [
    "stats = data_collection.generate_all_player_stats(url_player_stats)"
   ]
  },
  {
   "cell_type": "code",
   "execution_count": 8,
   "metadata": {},
   "outputs": [
    {
     "data": {
      "text/html": [
       "<div>\n",
       "<style scoped>\n",
       "    .dataframe tbody tr th:only-of-type {\n",
       "        vertical-align: middle;\n",
       "    }\n",
       "\n",
       "    .dataframe tbody tr th {\n",
       "        vertical-align: top;\n",
       "    }\n",
       "\n",
       "    .dataframe thead th {\n",
       "        text-align: right;\n",
       "    }\n",
       "</style>\n",
       "<table border=\"1\" class=\"dataframe\">\n",
       "  <thead>\n",
       "    <tr style=\"text-align: right;\">\n",
       "      <th></th>\n",
       "      <th>Date</th>\n",
       "      <th>Result</th>\n",
       "      <th>FG</th>\n",
       "      <th>FGA</th>\n",
       "      <th>FG3</th>\n",
       "      <th>eFG</th>\n",
       "    </tr>\n",
       "  </thead>\n",
       "  <tbody>\n",
       "    <tr>\n",
       "      <th>81</th>\n",
       "      <td>2016-04-13</td>\n",
       "      <td>L</td>\n",
       "      <td>7</td>\n",
       "      <td>14</td>\n",
       "      <td>1</td>\n",
       "      <td>0.536</td>\n",
       "    </tr>\n",
       "    <tr>\n",
       "      <th>80</th>\n",
       "      <td>2016-04-11</td>\n",
       "      <td>L</td>\n",
       "      <td>5</td>\n",
       "      <td>7</td>\n",
       "      <td>1</td>\n",
       "      <td>0.786</td>\n",
       "    </tr>\n",
       "    <tr>\n",
       "      <th>79</th>\n",
       "      <td>2016-04-10</td>\n",
       "      <td>W</td>\n",
       "      <td>4</td>\n",
       "      <td>15</td>\n",
       "      <td>1</td>\n",
       "      <td>0.300</td>\n",
       "    </tr>\n",
       "    <tr>\n",
       "      <th>78</th>\n",
       "      <td>2016-04-08</td>\n",
       "      <td>L</td>\n",
       "      <td>8</td>\n",
       "      <td>12</td>\n",
       "      <td>4</td>\n",
       "      <td>0.833</td>\n",
       "    </tr>\n",
       "    <tr>\n",
       "      <th>77</th>\n",
       "      <td>2016-04-05</td>\n",
       "      <td>L</td>\n",
       "      <td>10</td>\n",
       "      <td>18</td>\n",
       "      <td>2</td>\n",
       "      <td>0.611</td>\n",
       "    </tr>\n",
       "  </tbody>\n",
       "</table>\n",
       "</div>"
      ],
      "text/plain": [
       "         Date Result  FG  FGA  FG3    eFG\n",
       "81 2016-04-13      L   7   14    1  0.536\n",
       "80 2016-04-11      L   5    7    1  0.786\n",
       "79 2016-04-10      W   4   15    1  0.300\n",
       "78 2016-04-08      L   8   12    4  0.833\n",
       "77 2016-04-05      L  10   18    2  0.611"
      ]
     },
     "execution_count": 8,
     "metadata": {},
     "output_type": "execute_result"
    }
   ],
   "source": [
    "stats[0].head()"
   ]
  },
  {
   "cell_type": "code",
   "execution_count": 9,
   "metadata": {},
   "outputs": [],
   "source": [
    "final_tw_account = data_collection.get_twitter_accounts(players)"
   ]
  },
  {
   "cell_type": "code",
   "execution_count": 10,
   "metadata": {},
   "outputs": [
    {
     "data": {
      "text/plain": [
       "{'Giannis Antetokounmpo': 'Giannis_An34',\n",
       " 'Stephen Curry': 'StephenCurry30',\n",
       " 'Anthony Davis': 'AntDavis23',\n",
       " 'Kevin Durant': 'KDTrey5',\n",
       " 'Joel Embiid': 'JoelEmbiid',\n",
       " 'James Harden': 'JHarden13',\n",
       " 'LeBron James': 'KingJames',\n",
       " 'Kawhi Leonard': 'kawhileonard',\n",
       " 'Damian Lillard': 'Dame_Lillard',\n",
       " 'Russell Westbrook': 'russwest44'}"
      ]
     },
     "execution_count": 10,
     "metadata": {},
     "output_type": "execute_result"
    }
   ],
   "source": [
    "final_tw_account"
   ]
  },
  {
   "cell_type": "code",
   "execution_count": 21,
   "metadata": {},
   "outputs": [
    {
     "ename": "TweepError",
     "evalue": "Twitter error response: status code = 429",
     "output_type": "error",
     "traceback": [
      "\u001b[0;31m---------------------------------------------------------------------------\u001b[0m",
      "\u001b[0;31mTweepError\u001b[0m                                Traceback (most recent call last)",
      "\u001b[0;32m<ipython-input-21-d9ce26427459>\u001b[0m in \u001b[0;36m<module>\u001b[0;34m\u001b[0m\n\u001b[0;32m----> 1\u001b[0;31m \u001b[0mtweets_df\u001b[0m \u001b[0;34m=\u001b[0m \u001b[0mdata_collection\u001b[0m\u001b[0;34m.\u001b[0m\u001b[0mget_all_tweet\u001b[0m\u001b[0;34m(\u001b[0m\u001b[0mapi\u001b[0m\u001b[0;34m,\u001b[0m \u001b[0mfinal_tw_account\u001b[0m\u001b[0;34m)\u001b[0m\u001b[0;34m\u001b[0m\u001b[0m\n\u001b[0m",
      "\u001b[0;32m~/code/python/basket-stats/sentiment_analysis/data_collection.py\u001b[0m in \u001b[0;36mget_all_tweet\u001b[0;34m(api, final_tw_account)\u001b[0m\n\u001b[1;32m    266\u001b[0m         \u001b[0mcreat_time_list\u001b[0m \u001b[0;34m=\u001b[0m \u001b[0;34m[\u001b[0m\u001b[0;34m]\u001b[0m\u001b[0;34m\u001b[0m\u001b[0m\n\u001b[1;32m    267\u001b[0m \u001b[0;34m\u001b[0m\u001b[0m\n\u001b[0;32m--> 268\u001b[0;31m         \u001b[0;32mfor\u001b[0m \u001b[0mtwt\u001b[0m \u001b[0;32min\u001b[0m \u001b[0mtweepy\u001b[0m\u001b[0;34m.\u001b[0m\u001b[0mCursor\u001b[0m\u001b[0;34m(\u001b[0m\u001b[0mapi\u001b[0m\u001b[0;34m.\u001b[0m\u001b[0muser_timeline\u001b[0m\u001b[0;34m,\u001b[0m \u001b[0mid\u001b[0m\u001b[0;34m=\u001b[0m\u001b[0mID\u001b[0m\u001b[0;34m,\u001b[0m \u001b[0mtweet_mode\u001b[0m\u001b[0;34m=\u001b[0m\u001b[0;34m'extended'\u001b[0m\u001b[0;34m)\u001b[0m\u001b[0;34m.\u001b[0m\u001b[0mitems\u001b[0m\u001b[0;34m(\u001b[0m\u001b[0;36m1000\u001b[0m\u001b[0;34m)\u001b[0m\u001b[0;34m:\u001b[0m\u001b[0;34m\u001b[0m\u001b[0m\n\u001b[0m\u001b[1;32m    269\u001b[0m             \u001b[0;32mif\u001b[0m \u001b[0mtwt\u001b[0m\u001b[0;34m.\u001b[0m\u001b[0mcreated_at\u001b[0m \u001b[0;34m>\u001b[0m \u001b[0mdatetime\u001b[0m\u001b[0;34m.\u001b[0m\u001b[0mdatetime\u001b[0m\u001b[0;34m(\u001b[0m\u001b[0;36m2018\u001b[0m\u001b[0;34m,\u001b[0m \u001b[0;36m11\u001b[0m\u001b[0;34m,\u001b[0m \u001b[0;36m1\u001b[0m\u001b[0;34m,\u001b[0m \u001b[0;36m0\u001b[0m\u001b[0;34m,\u001b[0m \u001b[0;36m0\u001b[0m\u001b[0;34m,\u001b[0m \u001b[0;36m0\u001b[0m\u001b[0;34m)\u001b[0m\u001b[0;34m:\u001b[0m  \u001b[0;31m# extract time after\u001b[0m\u001b[0;34m\u001b[0m\u001b[0m\n\u001b[1;32m    270\u001b[0m                 \u001b[0;32mtry\u001b[0m\u001b[0;34m:\u001b[0m\u001b[0;34m\u001b[0m\u001b[0m\n",
      "\u001b[0;32m~/code/python/basket-stats/venv/lib/python3.7/site-packages/tweepy/cursor.py\u001b[0m in \u001b[0;36m__next__\u001b[0;34m(self)\u001b[0m\n\u001b[1;32m     47\u001b[0m \u001b[0;34m\u001b[0m\u001b[0m\n\u001b[1;32m     48\u001b[0m     \u001b[0;32mdef\u001b[0m \u001b[0m__next__\u001b[0m\u001b[0;34m(\u001b[0m\u001b[0mself\u001b[0m\u001b[0;34m)\u001b[0m\u001b[0;34m:\u001b[0m\u001b[0;34m\u001b[0m\u001b[0m\n\u001b[0;32m---> 49\u001b[0;31m         \u001b[0;32mreturn\u001b[0m \u001b[0mself\u001b[0m\u001b[0;34m.\u001b[0m\u001b[0mnext\u001b[0m\u001b[0;34m(\u001b[0m\u001b[0;34m)\u001b[0m\u001b[0;34m\u001b[0m\u001b[0m\n\u001b[0m\u001b[1;32m     50\u001b[0m \u001b[0;34m\u001b[0m\u001b[0m\n\u001b[1;32m     51\u001b[0m     \u001b[0;32mdef\u001b[0m \u001b[0mnext\u001b[0m\u001b[0;34m(\u001b[0m\u001b[0mself\u001b[0m\u001b[0;34m)\u001b[0m\u001b[0;34m:\u001b[0m\u001b[0;34m\u001b[0m\u001b[0m\n",
      "\u001b[0;32m~/code/python/basket-stats/venv/lib/python3.7/site-packages/tweepy/cursor.py\u001b[0m in \u001b[0;36mnext\u001b[0;34m(self)\u001b[0m\n\u001b[1;32m    195\u001b[0m         \u001b[0;32mif\u001b[0m \u001b[0mself\u001b[0m\u001b[0;34m.\u001b[0m\u001b[0mcurrent_page\u001b[0m \u001b[0;32mis\u001b[0m \u001b[0;32mNone\u001b[0m \u001b[0;32mor\u001b[0m \u001b[0mself\u001b[0m\u001b[0;34m.\u001b[0m\u001b[0mpage_index\u001b[0m \u001b[0;34m==\u001b[0m \u001b[0mlen\u001b[0m\u001b[0;34m(\u001b[0m\u001b[0mself\u001b[0m\u001b[0;34m.\u001b[0m\u001b[0mcurrent_page\u001b[0m\u001b[0;34m)\u001b[0m \u001b[0;34m-\u001b[0m \u001b[0;36m1\u001b[0m\u001b[0;34m:\u001b[0m\u001b[0;34m\u001b[0m\u001b[0m\n\u001b[1;32m    196\u001b[0m             \u001b[0;31m# Reached end of current page, get the next page...\u001b[0m\u001b[0;34m\u001b[0m\u001b[0;34m\u001b[0m\u001b[0m\n\u001b[0;32m--> 197\u001b[0;31m             \u001b[0mself\u001b[0m\u001b[0;34m.\u001b[0m\u001b[0mcurrent_page\u001b[0m \u001b[0;34m=\u001b[0m \u001b[0mself\u001b[0m\u001b[0;34m.\u001b[0m\u001b[0mpage_iterator\u001b[0m\u001b[0;34m.\u001b[0m\u001b[0mnext\u001b[0m\u001b[0;34m(\u001b[0m\u001b[0;34m)\u001b[0m\u001b[0;34m\u001b[0m\u001b[0m\n\u001b[0m\u001b[1;32m    198\u001b[0m             \u001b[0mself\u001b[0m\u001b[0;34m.\u001b[0m\u001b[0mpage_index\u001b[0m \u001b[0;34m=\u001b[0m \u001b[0;34m-\u001b[0m\u001b[0;36m1\u001b[0m\u001b[0;34m\u001b[0m\u001b[0m\n\u001b[1;32m    199\u001b[0m         \u001b[0mself\u001b[0m\u001b[0;34m.\u001b[0m\u001b[0mpage_index\u001b[0m \u001b[0;34m+=\u001b[0m \u001b[0;36m1\u001b[0m\u001b[0;34m\u001b[0m\u001b[0m\n",
      "\u001b[0;32m~/code/python/basket-stats/venv/lib/python3.7/site-packages/tweepy/cursor.py\u001b[0m in \u001b[0;36mnext\u001b[0;34m(self)\u001b[0m\n\u001b[1;32m    106\u001b[0m \u001b[0;34m\u001b[0m\u001b[0m\n\u001b[1;32m    107\u001b[0m         \u001b[0;32mif\u001b[0m \u001b[0mself\u001b[0m\u001b[0;34m.\u001b[0m\u001b[0mindex\u001b[0m \u001b[0;34m>=\u001b[0m \u001b[0mlen\u001b[0m\u001b[0;34m(\u001b[0m\u001b[0mself\u001b[0m\u001b[0;34m.\u001b[0m\u001b[0mresults\u001b[0m\u001b[0;34m)\u001b[0m \u001b[0;34m-\u001b[0m \u001b[0;36m1\u001b[0m\u001b[0;34m:\u001b[0m\u001b[0;34m\u001b[0m\u001b[0m\n\u001b[0;32m--> 108\u001b[0;31m             \u001b[0mdata\u001b[0m \u001b[0;34m=\u001b[0m \u001b[0mself\u001b[0m\u001b[0;34m.\u001b[0m\u001b[0mmethod\u001b[0m\u001b[0;34m(\u001b[0m\u001b[0mmax_id\u001b[0m\u001b[0;34m=\u001b[0m\u001b[0mself\u001b[0m\u001b[0;34m.\u001b[0m\u001b[0mmax_id\u001b[0m\u001b[0;34m,\u001b[0m \u001b[0mparser\u001b[0m\u001b[0;34m=\u001b[0m\u001b[0mRawParser\u001b[0m\u001b[0;34m(\u001b[0m\u001b[0;34m)\u001b[0m\u001b[0;34m,\u001b[0m \u001b[0;34m*\u001b[0m\u001b[0mself\u001b[0m\u001b[0;34m.\u001b[0m\u001b[0margs\u001b[0m\u001b[0;34m,\u001b[0m \u001b[0;34m**\u001b[0m\u001b[0mself\u001b[0m\u001b[0;34m.\u001b[0m\u001b[0mkargs\u001b[0m\u001b[0;34m)\u001b[0m\u001b[0;34m\u001b[0m\u001b[0m\n\u001b[0m\u001b[1;32m    109\u001b[0m \u001b[0;34m\u001b[0m\u001b[0m\n\u001b[1;32m    110\u001b[0m             \u001b[0;32mif\u001b[0m \u001b[0mhasattr\u001b[0m\u001b[0;34m(\u001b[0m\u001b[0mself\u001b[0m\u001b[0;34m.\u001b[0m\u001b[0mmethod\u001b[0m\u001b[0;34m,\u001b[0m \u001b[0;34m'__self__'\u001b[0m\u001b[0;34m)\u001b[0m\u001b[0;34m:\u001b[0m\u001b[0;34m\u001b[0m\u001b[0m\n",
      "\u001b[0;32m~/code/python/basket-stats/venv/lib/python3.7/site-packages/tweepy/binder.py\u001b[0m in \u001b[0;36m_call\u001b[0;34m(*args, **kwargs)\u001b[0m\n\u001b[1;32m    248\u001b[0m             \u001b[0;32mreturn\u001b[0m \u001b[0mmethod\u001b[0m\u001b[0;34m\u001b[0m\u001b[0m\n\u001b[1;32m    249\u001b[0m         \u001b[0;32melse\u001b[0m\u001b[0;34m:\u001b[0m\u001b[0;34m\u001b[0m\u001b[0m\n\u001b[0;32m--> 250\u001b[0;31m             \u001b[0;32mreturn\u001b[0m \u001b[0mmethod\u001b[0m\u001b[0;34m.\u001b[0m\u001b[0mexecute\u001b[0m\u001b[0;34m(\u001b[0m\u001b[0;34m)\u001b[0m\u001b[0;34m\u001b[0m\u001b[0m\n\u001b[0m\u001b[1;32m    251\u001b[0m \u001b[0;34m\u001b[0m\u001b[0m\n\u001b[1;32m    252\u001b[0m     \u001b[0;31m# Set pagination mode\u001b[0m\u001b[0;34m\u001b[0m\u001b[0;34m\u001b[0m\u001b[0m\n",
      "\u001b[0;32m~/code/python/basket-stats/venv/lib/python3.7/site-packages/tweepy/binder.py\u001b[0m in \u001b[0;36mexecute\u001b[0;34m(self)\u001b[0m\n\u001b[1;32m    232\u001b[0m                     \u001b[0;32mraise\u001b[0m \u001b[0mRateLimitError\u001b[0m\u001b[0;34m(\u001b[0m\u001b[0merror_msg\u001b[0m\u001b[0;34m,\u001b[0m \u001b[0mresp\u001b[0m\u001b[0;34m)\u001b[0m\u001b[0;34m\u001b[0m\u001b[0m\n\u001b[1;32m    233\u001b[0m                 \u001b[0;32melse\u001b[0m\u001b[0;34m:\u001b[0m\u001b[0;34m\u001b[0m\u001b[0m\n\u001b[0;32m--> 234\u001b[0;31m                     \u001b[0;32mraise\u001b[0m \u001b[0mTweepError\u001b[0m\u001b[0;34m(\u001b[0m\u001b[0merror_msg\u001b[0m\u001b[0;34m,\u001b[0m \u001b[0mresp\u001b[0m\u001b[0;34m,\u001b[0m \u001b[0mapi_code\u001b[0m\u001b[0;34m=\u001b[0m\u001b[0mapi_error_code\u001b[0m\u001b[0;34m)\u001b[0m\u001b[0;34m\u001b[0m\u001b[0m\n\u001b[0m\u001b[1;32m    235\u001b[0m \u001b[0;34m\u001b[0m\u001b[0m\n\u001b[1;32m    236\u001b[0m             \u001b[0;31m# Parse the response payload\u001b[0m\u001b[0;34m\u001b[0m\u001b[0;34m\u001b[0m\u001b[0m\n",
      "\u001b[0;31mTweepError\u001b[0m: Twitter error response: status code = 429"
     ]
    }
   ],
   "source": [
    "tweets_df = data_collection.get_all_tweet(api, final_tw_account)"
   ]
  },
  {
   "cell_type": "code",
   "execution_count": 31,
   "metadata": {},
   "outputs": [
    {
     "data": {
      "text/plain": [
       "Status(_api=<tweepy.api.API object at 0x122178240>, _json={'created_at': 'Sat Nov 24 12:27:32 +0000 2018', 'id': 1066307325437325313, 'id_str': '1066307325437325313', 'text': 'RT @BHL: Dieudonnistes et quenelles... Lepénistes et mélenchonistes... Dérapages racistes, antisémites et homophobes... Je persiste et sign…', 'truncated': False, 'entities': {'hashtags': [], 'symbols': [], 'user_mentions': [{'screen_name': 'BHL', 'name': 'Bernard-Henri Lévy', 'id': 46479088, 'id_str': '46479088', 'indices': [3, 7]}], 'urls': []}, 'source': '<a href=\"http://twitter.com\" rel=\"nofollow\">Twitter Web Client</a>', 'in_reply_to_status_id': None, 'in_reply_to_status_id_str': None, 'in_reply_to_user_id': None, 'in_reply_to_user_id_str': None, 'in_reply_to_screen_name': None, 'user': {'id': 64656532, 'id_str': '64656532', 'name': 'Juan Ignacio Gil', 'screen_name': 'JuanIgnacioGil', 'location': 'Queue-jumper citizen of Nowhere', 'description': 'Now, little boy lost, he takes himself so seriously', 'url': 'http://t.co/cBqePZ1tSK', 'entities': {'url': {'urls': [{'url': 'http://t.co/cBqePZ1tSK', 'expanded_url': 'http://nostalgiadelreino.net', 'display_url': 'nostalgiadelreino.net', 'indices': [0, 22]}]}, 'description': {'urls': []}}, 'protected': False, 'followers_count': 491, 'friends_count': 1138, 'listed_count': 21, 'created_at': 'Tue Aug 11 07:41:42 +0000 2009', 'favourites_count': 1124, 'utc_offset': None, 'time_zone': None, 'geo_enabled': True, 'verified': False, 'statuses_count': 10840, 'lang': 'en', 'contributors_enabled': False, 'is_translator': False, 'is_translation_enabled': False, 'profile_background_color': 'FFFFFF', 'profile_background_image_url': 'http://abs.twimg.com/images/themes/theme1/bg.png', 'profile_background_image_url_https': 'https://abs.twimg.com/images/themes/theme1/bg.png', 'profile_background_tile': False, 'profile_image_url': 'http://pbs.twimg.com/profile_images/1064635195830210560/rhfE7zSZ_normal.jpg', 'profile_image_url_https': 'https://pbs.twimg.com/profile_images/1064635195830210560/rhfE7zSZ_normal.jpg', 'profile_link_color': '1B95E0', 'profile_sidebar_border_color': 'FFFFFF', 'profile_sidebar_fill_color': 'FFFFFF', 'profile_text_color': '333333', 'profile_use_background_image': False, 'has_extended_profile': False, 'default_profile': False, 'default_profile_image': False, 'following': False, 'follow_request_sent': False, 'notifications': False, 'translator_type': 'none'}, 'geo': None, 'coordinates': None, 'place': None, 'contributors': None, 'retweeted_status': {'created_at': 'Fri Nov 23 16:51:22 +0000 2018', 'id': 1066011336453312513, 'id_str': '1066011336453312513', 'text': 'Dieudonnistes et quenelles... Lepénistes et mélenchonistes... Dérapages racistes, antisémites et homophobes... Je p… https://t.co/dyvQHmpZKi', 'truncated': True, 'entities': {'hashtags': [], 'symbols': [], 'user_mentions': [], 'urls': [{'url': 'https://t.co/dyvQHmpZKi', 'expanded_url': 'https://twitter.com/i/web/status/1066011336453312513', 'display_url': 'twitter.com/i/web/status/1…', 'indices': [117, 140]}]}, 'source': '<a href=\"http://twitter.com\" rel=\"nofollow\">Twitter Web Client</a>', 'in_reply_to_status_id': None, 'in_reply_to_status_id_str': None, 'in_reply_to_user_id': None, 'in_reply_to_user_id_str': None, 'in_reply_to_screen_name': None, 'user': {'id': 46479088, 'id_str': '46479088', 'name': 'Bernard-Henri Lévy', 'screen_name': 'BHL', 'location': '', 'description': 'Ecrivain, philosophe. \\nOfficial account created by L. Lazar and managed by @albk', 'url': 'http://t.co/oWZS4IW9TI', 'entities': {'url': {'urls': [{'url': 'http://t.co/oWZS4IW9TI', 'expanded_url': 'http://www.bernard-henri-levy.com', 'display_url': 'bernard-henri-levy.com', 'indices': [0, 22]}]}, 'description': {'urls': []}}, 'protected': False, 'followers_count': 61809, 'friends_count': 106, 'listed_count': 695, 'created_at': 'Thu Jun 11 20:16:05 +0000 2009', 'favourites_count': 340, 'utc_offset': None, 'time_zone': None, 'geo_enabled': False, 'verified': True, 'statuses_count': 5325, 'lang': 'fr', 'contributors_enabled': False, 'is_translator': False, 'is_translation_enabled': False, 'profile_background_color': 'FFFFFF', 'profile_background_image_url': 'http://abs.twimg.com/images/themes/theme1/bg.png', 'profile_background_image_url_https': 'https://abs.twimg.com/images/themes/theme1/bg.png', 'profile_background_tile': False, 'profile_image_url': 'http://pbs.twimg.com/profile_images/810142191851016192/Ju6Wj29n_normal.jpg', 'profile_image_url_https': 'https://pbs.twimg.com/profile_images/810142191851016192/Ju6Wj29n_normal.jpg', 'profile_banner_url': 'https://pbs.twimg.com/profile_banners/46479088/1489685977', 'profile_link_color': '8E1212', 'profile_sidebar_border_color': 'E8E8E8', 'profile_sidebar_fill_color': 'FAFAFA', 'profile_text_color': '000000', 'profile_use_background_image': True, 'has_extended_profile': False, 'default_profile': False, 'default_profile_image': False, 'following': True, 'follow_request_sent': False, 'notifications': False, 'translator_type': 'none'}, 'geo': None, 'coordinates': None, 'place': None, 'contributors': None, 'is_quote_status': False, 'retweet_count': 157, 'favorite_count': 278, 'favorited': True, 'retweeted': True, 'possibly_sensitive': False, 'lang': 'fr'}, 'is_quote_status': False, 'retweet_count': 157, 'favorite_count': 0, 'favorited': True, 'retweeted': True, 'lang': 'fr'}, created_at=datetime.datetime(2018, 11, 24, 12, 27, 32), id=1066307325437325313, id_str='1066307325437325313', text='RT @BHL: Dieudonnistes et quenelles... Lepénistes et mélenchonistes... Dérapages racistes, antisémites et homophobes... Je persiste et sign…', truncated=False, entities={'hashtags': [], 'symbols': [], 'user_mentions': [{'screen_name': 'BHL', 'name': 'Bernard-Henri Lévy', 'id': 46479088, 'id_str': '46479088', 'indices': [3, 7]}], 'urls': []}, source='Twitter Web Client', source_url='http://twitter.com', in_reply_to_status_id=None, in_reply_to_status_id_str=None, in_reply_to_user_id=None, in_reply_to_user_id_str=None, in_reply_to_screen_name=None, author=User(_api=<tweepy.api.API object at 0x122178240>, _json={'id': 64656532, 'id_str': '64656532', 'name': 'Juan Ignacio Gil', 'screen_name': 'JuanIgnacioGil', 'location': 'Queue-jumper citizen of Nowhere', 'description': 'Now, little boy lost, he takes himself so seriously', 'url': 'http://t.co/cBqePZ1tSK', 'entities': {'url': {'urls': [{'url': 'http://t.co/cBqePZ1tSK', 'expanded_url': 'http://nostalgiadelreino.net', 'display_url': 'nostalgiadelreino.net', 'indices': [0, 22]}]}, 'description': {'urls': []}}, 'protected': False, 'followers_count': 491, 'friends_count': 1138, 'listed_count': 21, 'created_at': 'Tue Aug 11 07:41:42 +0000 2009', 'favourites_count': 1124, 'utc_offset': None, 'time_zone': None, 'geo_enabled': True, 'verified': False, 'statuses_count': 10840, 'lang': 'en', 'contributors_enabled': False, 'is_translator': False, 'is_translation_enabled': False, 'profile_background_color': 'FFFFFF', 'profile_background_image_url': 'http://abs.twimg.com/images/themes/theme1/bg.png', 'profile_background_image_url_https': 'https://abs.twimg.com/images/themes/theme1/bg.png', 'profile_background_tile': False, 'profile_image_url': 'http://pbs.twimg.com/profile_images/1064635195830210560/rhfE7zSZ_normal.jpg', 'profile_image_url_https': 'https://pbs.twimg.com/profile_images/1064635195830210560/rhfE7zSZ_normal.jpg', 'profile_link_color': '1B95E0', 'profile_sidebar_border_color': 'FFFFFF', 'profile_sidebar_fill_color': 'FFFFFF', 'profile_text_color': '333333', 'profile_use_background_image': False, 'has_extended_profile': False, 'default_profile': False, 'default_profile_image': False, 'following': False, 'follow_request_sent': False, 'notifications': False, 'translator_type': 'none'}, id=64656532, id_str='64656532', name='Juan Ignacio Gil', screen_name='JuanIgnacioGil', location='Queue-jumper citizen of Nowhere', description='Now, little boy lost, he takes himself so seriously', url='http://t.co/cBqePZ1tSK', entities={'url': {'urls': [{'url': 'http://t.co/cBqePZ1tSK', 'expanded_url': 'http://nostalgiadelreino.net', 'display_url': 'nostalgiadelreino.net', 'indices': [0, 22]}]}, 'description': {'urls': []}}, protected=False, followers_count=491, friends_count=1138, listed_count=21, created_at=datetime.datetime(2009, 8, 11, 7, 41, 42), favourites_count=1124, utc_offset=None, time_zone=None, geo_enabled=True, verified=False, statuses_count=10840, lang='en', contributors_enabled=False, is_translator=False, is_translation_enabled=False, profile_background_color='FFFFFF', profile_background_image_url='http://abs.twimg.com/images/themes/theme1/bg.png', profile_background_image_url_https='https://abs.twimg.com/images/themes/theme1/bg.png', profile_background_tile=False, profile_image_url='http://pbs.twimg.com/profile_images/1064635195830210560/rhfE7zSZ_normal.jpg', profile_image_url_https='https://pbs.twimg.com/profile_images/1064635195830210560/rhfE7zSZ_normal.jpg', profile_link_color='1B95E0', profile_sidebar_border_color='FFFFFF', profile_sidebar_fill_color='FFFFFF', profile_text_color='333333', profile_use_background_image=False, has_extended_profile=False, default_profile=False, default_profile_image=False, following=False, follow_request_sent=False, notifications=False, translator_type='none'), user=User(_api=<tweepy.api.API object at 0x122178240>, _json={'id': 64656532, 'id_str': '64656532', 'name': 'Juan Ignacio Gil', 'screen_name': 'JuanIgnacioGil', 'location': 'Queue-jumper citizen of Nowhere', 'description': 'Now, little boy lost, he takes himself so seriously', 'url': 'http://t.co/cBqePZ1tSK', 'entities': {'url': {'urls': [{'url': 'http://t.co/cBqePZ1tSK', 'expanded_url': 'http://nostalgiadelreino.net', 'display_url': 'nostalgiadelreino.net', 'indices': [0, 22]}]}, 'description': {'urls': []}}, 'protected': False, 'followers_count': 491, 'friends_count': 1138, 'listed_count': 21, 'created_at': 'Tue Aug 11 07:41:42 +0000 2009', 'favourites_count': 1124, 'utc_offset': None, 'time_zone': None, 'geo_enabled': True, 'verified': False, 'statuses_count': 10840, 'lang': 'en', 'contributors_enabled': False, 'is_translator': False, 'is_translation_enabled': False, 'profile_background_color': 'FFFFFF', 'profile_background_image_url': 'http://abs.twimg.com/images/themes/theme1/bg.png', 'profile_background_image_url_https': 'https://abs.twimg.com/images/themes/theme1/bg.png', 'profile_background_tile': False, 'profile_image_url': 'http://pbs.twimg.com/profile_images/1064635195830210560/rhfE7zSZ_normal.jpg', 'profile_image_url_https': 'https://pbs.twimg.com/profile_images/1064635195830210560/rhfE7zSZ_normal.jpg', 'profile_link_color': '1B95E0', 'profile_sidebar_border_color': 'FFFFFF', 'profile_sidebar_fill_color': 'FFFFFF', 'profile_text_color': '333333', 'profile_use_background_image': False, 'has_extended_profile': False, 'default_profile': False, 'default_profile_image': False, 'following': False, 'follow_request_sent': False, 'notifications': False, 'translator_type': 'none'}, id=64656532, id_str='64656532', name='Juan Ignacio Gil', screen_name='JuanIgnacioGil', location='Queue-jumper citizen of Nowhere', description='Now, little boy lost, he takes himself so seriously', url='http://t.co/cBqePZ1tSK', entities={'url': {'urls': [{'url': 'http://t.co/cBqePZ1tSK', 'expanded_url': 'http://nostalgiadelreino.net', 'display_url': 'nostalgiadelreino.net', 'indices': [0, 22]}]}, 'description': {'urls': []}}, protected=False, followers_count=491, friends_count=1138, listed_count=21, created_at=datetime.datetime(2009, 8, 11, 7, 41, 42), favourites_count=1124, utc_offset=None, time_zone=None, geo_enabled=True, verified=False, statuses_count=10840, lang='en', contributors_enabled=False, is_translator=False, is_translation_enabled=False, profile_background_color='FFFFFF', profile_background_image_url='http://abs.twimg.com/images/themes/theme1/bg.png', profile_background_image_url_https='https://abs.twimg.com/images/themes/theme1/bg.png', profile_background_tile=False, profile_image_url='http://pbs.twimg.com/profile_images/1064635195830210560/rhfE7zSZ_normal.jpg', profile_image_url_https='https://pbs.twimg.com/profile_images/1064635195830210560/rhfE7zSZ_normal.jpg', profile_link_color='1B95E0', profile_sidebar_border_color='FFFFFF', profile_sidebar_fill_color='FFFFFF', profile_text_color='333333', profile_use_background_image=False, has_extended_profile=False, default_profile=False, default_profile_image=False, following=False, follow_request_sent=False, notifications=False, translator_type='none'), geo=None, coordinates=None, place=None, contributors=None, retweeted_status=Status(_api=<tweepy.api.API object at 0x122178240>, _json={'created_at': 'Fri Nov 23 16:51:22 +0000 2018', 'id': 1066011336453312513, 'id_str': '1066011336453312513', 'text': 'Dieudonnistes et quenelles... Lepénistes et mélenchonistes... Dérapages racistes, antisémites et homophobes... Je p… https://t.co/dyvQHmpZKi', 'truncated': True, 'entities': {'hashtags': [], 'symbols': [], 'user_mentions': [], 'urls': [{'url': 'https://t.co/dyvQHmpZKi', 'expanded_url': 'https://twitter.com/i/web/status/1066011336453312513', 'display_url': 'twitter.com/i/web/status/1…', 'indices': [117, 140]}]}, 'source': '<a href=\"http://twitter.com\" rel=\"nofollow\">Twitter Web Client</a>', 'in_reply_to_status_id': None, 'in_reply_to_status_id_str': None, 'in_reply_to_user_id': None, 'in_reply_to_user_id_str': None, 'in_reply_to_screen_name': None, 'user': {'id': 46479088, 'id_str': '46479088', 'name': 'Bernard-Henri Lévy', 'screen_name': 'BHL', 'location': '', 'description': 'Ecrivain, philosophe. \\nOfficial account created by L. Lazar and managed by @albk', 'url': 'http://t.co/oWZS4IW9TI', 'entities': {'url': {'urls': [{'url': 'http://t.co/oWZS4IW9TI', 'expanded_url': 'http://www.bernard-henri-levy.com', 'display_url': 'bernard-henri-levy.com', 'indices': [0, 22]}]}, 'description': {'urls': []}}, 'protected': False, 'followers_count': 61809, 'friends_count': 106, 'listed_count': 695, 'created_at': 'Thu Jun 11 20:16:05 +0000 2009', 'favourites_count': 340, 'utc_offset': None, 'time_zone': None, 'geo_enabled': False, 'verified': True, 'statuses_count': 5325, 'lang': 'fr', 'contributors_enabled': False, 'is_translator': False, 'is_translation_enabled': False, 'profile_background_color': 'FFFFFF', 'profile_background_image_url': 'http://abs.twimg.com/images/themes/theme1/bg.png', 'profile_background_image_url_https': 'https://abs.twimg.com/images/themes/theme1/bg.png', 'profile_background_tile': False, 'profile_image_url': 'http://pbs.twimg.com/profile_images/810142191851016192/Ju6Wj29n_normal.jpg', 'profile_image_url_https': 'https://pbs.twimg.com/profile_images/810142191851016192/Ju6Wj29n_normal.jpg', 'profile_banner_url': 'https://pbs.twimg.com/profile_banners/46479088/1489685977', 'profile_link_color': '8E1212', 'profile_sidebar_border_color': 'E8E8E8', 'profile_sidebar_fill_color': 'FAFAFA', 'profile_text_color': '000000', 'profile_use_background_image': True, 'has_extended_profile': False, 'default_profile': False, 'default_profile_image': False, 'following': True, 'follow_request_sent': False, 'notifications': False, 'translator_type': 'none'}, 'geo': None, 'coordinates': None, 'place': None, 'contributors': None, 'is_quote_status': False, 'retweet_count': 157, 'favorite_count': 278, 'favorited': True, 'retweeted': True, 'possibly_sensitive': False, 'lang': 'fr'}, created_at=datetime.datetime(2018, 11, 23, 16, 51, 22), id=1066011336453312513, id_str='1066011336453312513', text='Dieudonnistes et quenelles... Lepénistes et mélenchonistes... Dérapages racistes, antisémites et homophobes... Je p… https://t.co/dyvQHmpZKi', truncated=True, entities={'hashtags': [], 'symbols': [], 'user_mentions': [], 'urls': [{'url': 'https://t.co/dyvQHmpZKi', 'expanded_url': 'https://twitter.com/i/web/status/1066011336453312513', 'display_url': 'twitter.com/i/web/status/1…', 'indices': [117, 140]}]}, source='Twitter Web Client', source_url='http://twitter.com', in_reply_to_status_id=None, in_reply_to_status_id_str=None, in_reply_to_user_id=None, in_reply_to_user_id_str=None, in_reply_to_screen_name=None, author=User(_api=<tweepy.api.API object at 0x122178240>, _json={'id': 46479088, 'id_str': '46479088', 'name': 'Bernard-Henri Lévy', 'screen_name': 'BHL', 'location': '', 'description': 'Ecrivain, philosophe. \\nOfficial account created by L. Lazar and managed by @albk', 'url': 'http://t.co/oWZS4IW9TI', 'entities': {'url': {'urls': [{'url': 'http://t.co/oWZS4IW9TI', 'expanded_url': 'http://www.bernard-henri-levy.com', 'display_url': 'bernard-henri-levy.com', 'indices': [0, 22]}]}, 'description': {'urls': []}}, 'protected': False, 'followers_count': 61809, 'friends_count': 106, 'listed_count': 695, 'created_at': 'Thu Jun 11 20:16:05 +0000 2009', 'favourites_count': 340, 'utc_offset': None, 'time_zone': None, 'geo_enabled': False, 'verified': True, 'statuses_count': 5325, 'lang': 'fr', 'contributors_enabled': False, 'is_translator': False, 'is_translation_enabled': False, 'profile_background_color': 'FFFFFF', 'profile_background_image_url': 'http://abs.twimg.com/images/themes/theme1/bg.png', 'profile_background_image_url_https': 'https://abs.twimg.com/images/themes/theme1/bg.png', 'profile_background_tile': False, 'profile_image_url': 'http://pbs.twimg.com/profile_images/810142191851016192/Ju6Wj29n_normal.jpg', 'profile_image_url_https': 'https://pbs.twimg.com/profile_images/810142191851016192/Ju6Wj29n_normal.jpg', 'profile_banner_url': 'https://pbs.twimg.com/profile_banners/46479088/1489685977', 'profile_link_color': '8E1212', 'profile_sidebar_border_color': 'E8E8E8', 'profile_sidebar_fill_color': 'FAFAFA', 'profile_text_color': '000000', 'profile_use_background_image': True, 'has_extended_profile': False, 'default_profile': False, 'default_profile_image': False, 'following': True, 'follow_request_sent': False, 'notifications': False, 'translator_type': 'none'}, id=46479088, id_str='46479088', name='Bernard-Henri Lévy', screen_name='BHL', location='', description='Ecrivain, philosophe. \\nOfficial account created by L. Lazar and managed by @albk', url='http://t.co/oWZS4IW9TI', entities={'url': {'urls': [{'url': 'http://t.co/oWZS4IW9TI', 'expanded_url': 'http://www.bernard-henri-levy.com', 'display_url': 'bernard-henri-levy.com', 'indices': [0, 22]}]}, 'description': {'urls': []}}, protected=False, followers_count=61809, friends_count=106, listed_count=695, created_at=datetime.datetime(2009, 6, 11, 20, 16, 5), favourites_count=340, utc_offset=None, time_zone=None, geo_enabled=False, verified=True, statuses_count=5325, lang='fr', contributors_enabled=False, is_translator=False, is_translation_enabled=False, profile_background_color='FFFFFF', profile_background_image_url='http://abs.twimg.com/images/themes/theme1/bg.png', profile_background_image_url_https='https://abs.twimg.com/images/themes/theme1/bg.png', profile_background_tile=False, profile_image_url='http://pbs.twimg.com/profile_images/810142191851016192/Ju6Wj29n_normal.jpg', profile_image_url_https='https://pbs.twimg.com/profile_images/810142191851016192/Ju6Wj29n_normal.jpg', profile_banner_url='https://pbs.twimg.com/profile_banners/46479088/1489685977', profile_link_color='8E1212', profile_sidebar_border_color='E8E8E8', profile_sidebar_fill_color='FAFAFA', profile_text_color='000000', profile_use_background_image=True, has_extended_profile=False, default_profile=False, default_profile_image=False, following=True, follow_request_sent=False, notifications=False, translator_type='none'), user=User(_api=<tweepy.api.API object at 0x122178240>, _json={'id': 46479088, 'id_str': '46479088', 'name': 'Bernard-Henri Lévy', 'screen_name': 'BHL', 'location': '', 'description': 'Ecrivain, philosophe. \\nOfficial account created by L. Lazar and managed by @albk', 'url': 'http://t.co/oWZS4IW9TI', 'entities': {'url': {'urls': [{'url': 'http://t.co/oWZS4IW9TI', 'expanded_url': 'http://www.bernard-henri-levy.com', 'display_url': 'bernard-henri-levy.com', 'indices': [0, 22]}]}, 'description': {'urls': []}}, 'protected': False, 'followers_count': 61809, 'friends_count': 106, 'listed_count': 695, 'created_at': 'Thu Jun 11 20:16:05 +0000 2009', 'favourites_count': 340, 'utc_offset': None, 'time_zone': None, 'geo_enabled': False, 'verified': True, 'statuses_count': 5325, 'lang': 'fr', 'contributors_enabled': False, 'is_translator': False, 'is_translation_enabled': False, 'profile_background_color': 'FFFFFF', 'profile_background_image_url': 'http://abs.twimg.com/images/themes/theme1/bg.png', 'profile_background_image_url_https': 'https://abs.twimg.com/images/themes/theme1/bg.png', 'profile_background_tile': False, 'profile_image_url': 'http://pbs.twimg.com/profile_images/810142191851016192/Ju6Wj29n_normal.jpg', 'profile_image_url_https': 'https://pbs.twimg.com/profile_images/810142191851016192/Ju6Wj29n_normal.jpg', 'profile_banner_url': 'https://pbs.twimg.com/profile_banners/46479088/1489685977', 'profile_link_color': '8E1212', 'profile_sidebar_border_color': 'E8E8E8', 'profile_sidebar_fill_color': 'FAFAFA', 'profile_text_color': '000000', 'profile_use_background_image': True, 'has_extended_profile': False, 'default_profile': False, 'default_profile_image': False, 'following': True, 'follow_request_sent': False, 'notifications': False, 'translator_type': 'none'}, id=46479088, id_str='46479088', name='Bernard-Henri Lévy', screen_name='BHL', location='', description='Ecrivain, philosophe. \\nOfficial account created by L. Lazar and managed by @albk', url='http://t.co/oWZS4IW9TI', entities={'url': {'urls': [{'url': 'http://t.co/oWZS4IW9TI', 'expanded_url': 'http://www.bernard-henri-levy.com', 'display_url': 'bernard-henri-levy.com', 'indices': [0, 22]}]}, 'description': {'urls': []}}, protected=False, followers_count=61809, friends_count=106, listed_count=695, created_at=datetime.datetime(2009, 6, 11, 20, 16, 5), favourites_count=340, utc_offset=None, time_zone=None, geo_enabled=False, verified=True, statuses_count=5325, lang='fr', contributors_enabled=False, is_translator=False, is_translation_enabled=False, profile_background_color='FFFFFF', profile_background_image_url='http://abs.twimg.com/images/themes/theme1/bg.png', profile_background_image_url_https='https://abs.twimg.com/images/themes/theme1/bg.png', profile_background_tile=False, profile_image_url='http://pbs.twimg.com/profile_images/810142191851016192/Ju6Wj29n_normal.jpg', profile_image_url_https='https://pbs.twimg.com/profile_images/810142191851016192/Ju6Wj29n_normal.jpg', profile_banner_url='https://pbs.twimg.com/profile_banners/46479088/1489685977', profile_link_color='8E1212', profile_sidebar_border_color='E8E8E8', profile_sidebar_fill_color='FAFAFA', profile_text_color='000000', profile_use_background_image=True, has_extended_profile=False, default_profile=False, default_profile_image=False, following=True, follow_request_sent=False, notifications=False, translator_type='none'), geo=None, coordinates=None, place=None, contributors=None, is_quote_status=False, retweet_count=157, favorite_count=278, favorited=True, retweeted=True, possibly_sensitive=False, lang='fr'), is_quote_status=False, retweet_count=157, favorite_count=0, favorited=True, retweeted=True, lang='fr')"
      ]
     },
     "execution_count": 31,
     "metadata": {},
     "output_type": "execute_result"
    }
   ],
   "source": [
    "api.user_timeline(screen_name = 'JuanIgnacioGil', count = 100, include_rts = True)[0]"
   ]
  },
  {
   "cell_type": "code",
   "execution_count": null,
   "metadata": {},
   "outputs": [],
   "source": []
  }
 ],
 "metadata": {
  "kernelspec": {
   "display_name": "Python 3",
   "language": "python",
   "name": "python3"
  },
  "language_info": {
   "codemirror_mode": {
    "name": "ipython",
    "version": 3
   },
   "file_extension": ".py",
   "mimetype": "text/x-python",
   "name": "python",
   "nbconvert_exporter": "python",
   "pygments_lexer": "ipython3",
   "version": "3.7.0"
  }
 },
 "nbformat": 4,
 "nbformat_minor": 1
}
