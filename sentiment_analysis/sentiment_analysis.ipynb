{
 "cells": [
  {
   "cell_type": "markdown",
   "metadata": {},
   "source": [
    "# Sentiment Analysis on NBA top players’ Twitter Account\n",
    "\n",
    "Original code from Yen-Chen Chou: \n",
    "\n",
    "https://towardsdatascience.com/do-tweets-from-nba-leading-players-have-correlations-with-their-performance-7358c79aa216"
   ]
  },
  {
   "cell_type": "code",
   "execution_count": 1,
   "metadata": {},
   "outputs": [],
   "source": [
    "%load_ext autoreload\n",
    "%autoreload 2"
   ]
  },
  {
   "cell_type": "code",
   "execution_count": 2,
   "metadata": {},
   "outputs": [],
   "source": [
    "import data_collection"
   ]
  },
  {
   "cell_type": "code",
   "execution_count": 3,
   "metadata": {},
   "outputs": [],
   "source": [
    "api = data_collection.login_into_twitter()"
   ]
  },
  {
   "cell_type": "code",
   "execution_count": 4,
   "metadata": {},
   "outputs": [],
   "source": [
    "players = data_collection.get_best_players()"
   ]
  },
  {
   "cell_type": "code",
   "execution_count": 5,
   "metadata": {},
   "outputs": [
    {
     "data": {
      "text/plain": [
       "['Damian Lillard',\n",
       " 'Joel Embiid',\n",
       " 'Kawhi Leonard',\n",
       " 'Russell Westbrook',\n",
       " 'Anthony Davis',\n",
       " 'Giannis Antetokounmpo',\n",
       " 'Kevin Durant',\n",
       " 'James Harden',\n",
       " 'Stephen Curry',\n",
       " 'LeBron James']"
      ]
     },
     "execution_count": 5,
     "metadata": {},
     "output_type": "execute_result"
    }
   ],
   "source": [
    "players"
   ]
  },
  {
   "cell_type": "code",
   "execution_count": 6,
   "metadata": {},
   "outputs": [],
   "source": [
    "url_player_stats_ls = [\n",
    "                    \"https://www.basketball-reference.com/players/a/antetgi01/gamelog/\",\n",
    "                    \"https://www.basketball-reference.com/players/c/curryst01/gamelog/\",\n",
    "                    \"https://www.basketball-reference.com/players/d/davisan02/gamelog/\",\n",
    "                    \"https://www.basketball-reference.com/players/d/duranke01/gamelog/\",\n",
    "                    \"https://www.basketball-reference.com/players/e/embiijo01/gamelog/\",\n",
    "                    \"https://www.basketball-reference.com/players/h/hardeja01/gamelog/\",\n",
    "                    \"https://www.basketball-reference.com/players/j/jamesle01/gamelog/\",\n",
    "                    \"https://www.basketball-reference.com/players/l/leonaka01/gamelog/\",\n",
    "                    \"https://www.basketball-reference.com/players/l/lillada01/gamelog/\",\n",
    "                    \"https://www.basketball-reference.com/players/w/westbru01/gamelog/\"\n",
    "                   ]\n",
    "years = [\"2019\", \"2018\", \"2017\", \"2016\"]\n",
    "url_player_stats = []\n",
    "for i in url_player_stats_ls:\n",
    "    url_stats = []\n",
    "    for j in years:\n",
    "        url_stats.append(i+j)\n",
    "    url_player_stats.append(url_stats)"
   ]
  },
  {
   "cell_type": "code",
   "execution_count": 7,
   "metadata": {},
   "outputs": [
    {
     "data": {
      "text/plain": [
       "[['https://www.basketball-reference.com/players/a/antetgi01/gamelog/2019',\n",
       "  'https://www.basketball-reference.com/players/a/antetgi01/gamelog/2018',\n",
       "  'https://www.basketball-reference.com/players/a/antetgi01/gamelog/2017',\n",
       "  'https://www.basketball-reference.com/players/a/antetgi01/gamelog/2016'],\n",
       " ['https://www.basketball-reference.com/players/c/curryst01/gamelog/2019',\n",
       "  'https://www.basketball-reference.com/players/c/curryst01/gamelog/2018',\n",
       "  'https://www.basketball-reference.com/players/c/curryst01/gamelog/2017',\n",
       "  'https://www.basketball-reference.com/players/c/curryst01/gamelog/2016'],\n",
       " ['https://www.basketball-reference.com/players/d/davisan02/gamelog/2019',\n",
       "  'https://www.basketball-reference.com/players/d/davisan02/gamelog/2018',\n",
       "  'https://www.basketball-reference.com/players/d/davisan02/gamelog/2017',\n",
       "  'https://www.basketball-reference.com/players/d/davisan02/gamelog/2016'],\n",
       " ['https://www.basketball-reference.com/players/d/duranke01/gamelog/2019',\n",
       "  'https://www.basketball-reference.com/players/d/duranke01/gamelog/2018',\n",
       "  'https://www.basketball-reference.com/players/d/duranke01/gamelog/2017',\n",
       "  'https://www.basketball-reference.com/players/d/duranke01/gamelog/2016'],\n",
       " ['https://www.basketball-reference.com/players/e/embiijo01/gamelog/2019',\n",
       "  'https://www.basketball-reference.com/players/e/embiijo01/gamelog/2018',\n",
       "  'https://www.basketball-reference.com/players/e/embiijo01/gamelog/2017',\n",
       "  'https://www.basketball-reference.com/players/e/embiijo01/gamelog/2016'],\n",
       " ['https://www.basketball-reference.com/players/h/hardeja01/gamelog/2019',\n",
       "  'https://www.basketball-reference.com/players/h/hardeja01/gamelog/2018',\n",
       "  'https://www.basketball-reference.com/players/h/hardeja01/gamelog/2017',\n",
       "  'https://www.basketball-reference.com/players/h/hardeja01/gamelog/2016'],\n",
       " ['https://www.basketball-reference.com/players/j/jamesle01/gamelog/2019',\n",
       "  'https://www.basketball-reference.com/players/j/jamesle01/gamelog/2018',\n",
       "  'https://www.basketball-reference.com/players/j/jamesle01/gamelog/2017',\n",
       "  'https://www.basketball-reference.com/players/j/jamesle01/gamelog/2016'],\n",
       " ['https://www.basketball-reference.com/players/l/leonaka01/gamelog/2019',\n",
       "  'https://www.basketball-reference.com/players/l/leonaka01/gamelog/2018',\n",
       "  'https://www.basketball-reference.com/players/l/leonaka01/gamelog/2017',\n",
       "  'https://www.basketball-reference.com/players/l/leonaka01/gamelog/2016'],\n",
       " ['https://www.basketball-reference.com/players/l/lillada01/gamelog/2019',\n",
       "  'https://www.basketball-reference.com/players/l/lillada01/gamelog/2018',\n",
       "  'https://www.basketball-reference.com/players/l/lillada01/gamelog/2017',\n",
       "  'https://www.basketball-reference.com/players/l/lillada01/gamelog/2016'],\n",
       " ['https://www.basketball-reference.com/players/w/westbru01/gamelog/2019',\n",
       "  'https://www.basketball-reference.com/players/w/westbru01/gamelog/2018',\n",
       "  'https://www.basketball-reference.com/players/w/westbru01/gamelog/2017',\n",
       "  'https://www.basketball-reference.com/players/w/westbru01/gamelog/2016']]"
      ]
     },
     "execution_count": 7,
     "metadata": {},
     "output_type": "execute_result"
    }
   ],
   "source": [
    "url_player_stats"
   ]
  },
  {
   "cell_type": "code",
   "execution_count": null,
   "metadata": {},
   "outputs": [],
   "source": []
  }
 ],
 "metadata": {
  "kernelspec": {
   "display_name": "Python 3",
   "language": "python",
   "name": "python3"
  },
  "language_info": {
   "codemirror_mode": {
    "name": "ipython",
    "version": 3
   },
   "file_extension": ".py",
   "mimetype": "text/x-python",
   "name": "python",
   "nbconvert_exporter": "python",
   "pygments_lexer": "ipython3",
   "version": "3.7.0"
  }
 },
 "nbformat": 4,
 "nbformat_minor": 1
}
