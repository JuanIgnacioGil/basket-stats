{
 "cells": [
  {
   "cell_type": "markdown",
   "metadata": {},
   "source": [
    "# New stats format in acb.com\n",
    "\n",
    "Playing with the new stats format in acb.com (launched in October 2019)"
   ]
  },
  {
   "cell_type": "code",
   "execution_count": 1,
   "metadata": {},
   "outputs": [],
   "source": [
    "import pandas as pd"
   ]
  },
  {
   "cell_type": "code",
   "execution_count": 2,
   "metadata": {},
   "outputs": [],
   "source": [
    "season = 2019\n",
    "urls = [\n",
    "    'http://www.acb.com/estadisticas-individuales/{}/temporada_id/{}/tipo_id/0'.format(x, season)\n",
    "    for x in \n",
    "    [\n",
    "        'valoracion', \n",
    "        'puntos', \n",
    "        'rebotes', \n",
    "        'asistencias', \n",
    "        'robos', 'tapones', \n",
    "        'mas-menos', \n",
    "        'minutos', \n",
    "        'tiros3', \n",
    "        'tiros3-porciento',\n",
    "        'tiros2', \n",
    "        'tiros2-porciento',\n",
    "        'tiros1', \n",
    "        'tiros1-porciento',\n",
    "        'rebotes-defensivos',\n",
    "        'rebotes-ofensivos',\n",
    "        'faltas-recibidas',\n",
    "        'faltas-cometidas',\n",
    "        'mates'\n",
    "    ]\n",
    "]"
   ]
  },
  {
   "cell_type": "code",
   "execution_count": 3,
   "metadata": {},
   "outputs": [],
   "source": [
    "data = pd.concat([pd.read_html(url)[0].iloc[:, 1:] for url in urls], axis=0).drop_duplicates()"
   ]
  },
  {
   "cell_type": "code",
   "execution_count": 4,
   "metadata": {},
   "outputs": [],
   "source": [
    "data.columns = [\n",
    "    'name', 'games', 'minutes', 'points',\n",
    "    '3p_converted', '3p_attempted', '3p_percentage',\n",
    "    '2p_converted', '2p_attempted', '2p_percentage',\n",
    "    '1p_converted', '1p_attempted', '1p_percentage',\n",
    "    'offensive_rebounds', 'deffensive_rebounds', 'rebounds',\n",
    "    'assists', 'steals', 'turnovers',\n",
    "    'blocks', 'received_blocks',\n",
    "    'dunks', 'faults', 'received_faults',\n",
    "    'plus_minus', 'pir'\n",
    "]\n",
    "data = data.set_index('name')"
   ]
  },
  {
   "cell_type": "code",
   "execution_count": 5,
   "metadata": {},
   "outputs": [
    {
     "data": {
      "text/html": [
       "<div>\n",
       "<style scoped>\n",
       "    .dataframe tbody tr th:only-of-type {\n",
       "        vertical-align: middle;\n",
       "    }\n",
       "\n",
       "    .dataframe tbody tr th {\n",
       "        vertical-align: top;\n",
       "    }\n",
       "\n",
       "    .dataframe thead th {\n",
       "        text-align: right;\n",
       "    }\n",
       "</style>\n",
       "<table border=\"1\" class=\"dataframe\">\n",
       "  <thead>\n",
       "    <tr style=\"text-align: right;\">\n",
       "      <th></th>\n",
       "      <th>games</th>\n",
       "      <th>minutes</th>\n",
       "      <th>points</th>\n",
       "      <th>3p_converted</th>\n",
       "      <th>3p_attempted</th>\n",
       "      <th>2p_converted</th>\n",
       "      <th>2p_attempted</th>\n",
       "      <th>1p_converted</th>\n",
       "      <th>1p_attempted</th>\n",
       "      <th>offensive_rebounds</th>\n",
       "      <th>...</th>\n",
       "      <th>assists</th>\n",
       "      <th>steals</th>\n",
       "      <th>turnovers</th>\n",
       "      <th>blocks</th>\n",
       "      <th>received_blocks</th>\n",
       "      <th>dunks</th>\n",
       "      <th>faults</th>\n",
       "      <th>received_faults</th>\n",
       "      <th>plus_minus</th>\n",
       "      <th>pir</th>\n",
       "    </tr>\n",
       "  </thead>\n",
       "  <tbody>\n",
       "    <tr>\n",
       "      <th>count</th>\n",
       "      <td>196.000000</td>\n",
       "      <td>196.000000</td>\n",
       "      <td>196.000000</td>\n",
       "      <td>196.000000</td>\n",
       "      <td>196.000000</td>\n",
       "      <td>196.000000</td>\n",
       "      <td>196.000000</td>\n",
       "      <td>196.000000</td>\n",
       "      <td>196.000000</td>\n",
       "      <td>196.000000</td>\n",
       "      <td>...</td>\n",
       "      <td>196.000000</td>\n",
       "      <td>196.000000</td>\n",
       "      <td>196.000000</td>\n",
       "      <td>196.000000</td>\n",
       "      <td>196.000000</td>\n",
       "      <td>196.000000</td>\n",
       "      <td>196.000000</td>\n",
       "      <td>196.000000</td>\n",
       "      <td>196.000000</td>\n",
       "      <td>196.000000</td>\n",
       "    </tr>\n",
       "    <tr>\n",
       "      <th>mean</th>\n",
       "      <td>3.571429</td>\n",
       "      <td>66.923469</td>\n",
       "      <td>27.591837</td>\n",
       "      <td>3.188776</td>\n",
       "      <td>8.765306</td>\n",
       "      <td>6.724490</td>\n",
       "      <td>12.897959</td>\n",
       "      <td>4.576531</td>\n",
       "      <td>6.020408</td>\n",
       "      <td>3.153061</td>\n",
       "      <td>...</td>\n",
       "      <td>5.122449</td>\n",
       "      <td>2.117347</td>\n",
       "      <td>4.275510</td>\n",
       "      <td>0.943878</td>\n",
       "      <td>0.882653</td>\n",
       "      <td>0.974490</td>\n",
       "      <td>6.867347</td>\n",
       "      <td>6.913265</td>\n",
       "      <td>0.535714</td>\n",
       "      <td>28.382653</td>\n",
       "    </tr>\n",
       "    <tr>\n",
       "      <th>std</th>\n",
       "      <td>0.835126</td>\n",
       "      <td>27.259047</td>\n",
       "      <td>16.912345</td>\n",
       "      <td>3.386258</td>\n",
       "      <td>7.851573</td>\n",
       "      <td>5.165528</td>\n",
       "      <td>8.793925</td>\n",
       "      <td>4.595344</td>\n",
       "      <td>5.644111</td>\n",
       "      <td>3.260807</td>\n",
       "      <td>...</td>\n",
       "      <td>5.133630</td>\n",
       "      <td>1.919269</td>\n",
       "      <td>2.994972</td>\n",
       "      <td>1.529844</td>\n",
       "      <td>1.141975</td>\n",
       "      <td>1.500209</td>\n",
       "      <td>3.576670</td>\n",
       "      <td>5.205286</td>\n",
       "      <td>21.015104</td>\n",
       "      <td>19.204206</td>\n",
       "    </tr>\n",
       "    <tr>\n",
       "      <th>min</th>\n",
       "      <td>1.000000</td>\n",
       "      <td>1.000000</td>\n",
       "      <td>0.000000</td>\n",
       "      <td>0.000000</td>\n",
       "      <td>0.000000</td>\n",
       "      <td>0.000000</td>\n",
       "      <td>0.000000</td>\n",
       "      <td>0.000000</td>\n",
       "      <td>0.000000</td>\n",
       "      <td>0.000000</td>\n",
       "      <td>...</td>\n",
       "      <td>0.000000</td>\n",
       "      <td>0.000000</td>\n",
       "      <td>0.000000</td>\n",
       "      <td>0.000000</td>\n",
       "      <td>0.000000</td>\n",
       "      <td>0.000000</td>\n",
       "      <td>0.000000</td>\n",
       "      <td>0.000000</td>\n",
       "      <td>-69.000000</td>\n",
       "      <td>-14.000000</td>\n",
       "    </tr>\n",
       "    <tr>\n",
       "      <th>25%</th>\n",
       "      <td>3.000000</td>\n",
       "      <td>50.000000</td>\n",
       "      <td>16.000000</td>\n",
       "      <td>1.000000</td>\n",
       "      <td>2.000000</td>\n",
       "      <td>3.000000</td>\n",
       "      <td>6.000000</td>\n",
       "      <td>1.000000</td>\n",
       "      <td>2.000000</td>\n",
       "      <td>1.000000</td>\n",
       "      <td>...</td>\n",
       "      <td>1.000000</td>\n",
       "      <td>1.000000</td>\n",
       "      <td>2.000000</td>\n",
       "      <td>0.000000</td>\n",
       "      <td>0.000000</td>\n",
       "      <td>0.000000</td>\n",
       "      <td>4.000000</td>\n",
       "      <td>3.000000</td>\n",
       "      <td>-14.000000</td>\n",
       "      <td>15.000000</td>\n",
       "    </tr>\n",
       "    <tr>\n",
       "      <th>50%</th>\n",
       "      <td>4.000000</td>\n",
       "      <td>67.500000</td>\n",
       "      <td>24.000000</td>\n",
       "      <td>2.000000</td>\n",
       "      <td>7.000000</td>\n",
       "      <td>6.000000</td>\n",
       "      <td>11.000000</td>\n",
       "      <td>4.000000</td>\n",
       "      <td>5.000000</td>\n",
       "      <td>2.000000</td>\n",
       "      <td>...</td>\n",
       "      <td>3.000000</td>\n",
       "      <td>2.000000</td>\n",
       "      <td>4.000000</td>\n",
       "      <td>0.000000</td>\n",
       "      <td>1.000000</td>\n",
       "      <td>0.000000</td>\n",
       "      <td>7.000000</td>\n",
       "      <td>6.000000</td>\n",
       "      <td>1.000000</td>\n",
       "      <td>25.000000</td>\n",
       "    </tr>\n",
       "    <tr>\n",
       "      <th>75%</th>\n",
       "      <td>4.000000</td>\n",
       "      <td>87.000000</td>\n",
       "      <td>36.250000</td>\n",
       "      <td>5.000000</td>\n",
       "      <td>13.000000</td>\n",
       "      <td>10.000000</td>\n",
       "      <td>18.000000</td>\n",
       "      <td>7.000000</td>\n",
       "      <td>8.000000</td>\n",
       "      <td>4.000000</td>\n",
       "      <td>...</td>\n",
       "      <td>7.000000</td>\n",
       "      <td>3.000000</td>\n",
       "      <td>6.000000</td>\n",
       "      <td>1.000000</td>\n",
       "      <td>1.000000</td>\n",
       "      <td>1.000000</td>\n",
       "      <td>9.000000</td>\n",
       "      <td>9.250000</td>\n",
       "      <td>14.250000</td>\n",
       "      <td>37.250000</td>\n",
       "    </tr>\n",
       "    <tr>\n",
       "      <th>max</th>\n",
       "      <td>4.000000</td>\n",
       "      <td>124.000000</td>\n",
       "      <td>95.000000</td>\n",
       "      <td>17.000000</td>\n",
       "      <td>39.000000</td>\n",
       "      <td>31.000000</td>\n",
       "      <td>44.000000</td>\n",
       "      <td>33.000000</td>\n",
       "      <td>38.000000</td>\n",
       "      <td>19.000000</td>\n",
       "      <td>...</td>\n",
       "      <td>27.000000</td>\n",
       "      <td>11.000000</td>\n",
       "      <td>14.000000</td>\n",
       "      <td>7.000000</td>\n",
       "      <td>6.000000</td>\n",
       "      <td>8.000000</td>\n",
       "      <td>17.000000</td>\n",
       "      <td>30.000000</td>\n",
       "      <td>56.000000</td>\n",
       "      <td>98.000000</td>\n",
       "    </tr>\n",
       "  </tbody>\n",
       "</table>\n",
       "<p>8 rows × 22 columns</p>\n",
       "</div>"
      ],
      "text/plain": [
       "            games     minutes      points  3p_converted  3p_attempted  \\\n",
       "count  196.000000  196.000000  196.000000    196.000000    196.000000   \n",
       "mean     3.571429   66.923469   27.591837      3.188776      8.765306   \n",
       "std      0.835126   27.259047   16.912345      3.386258      7.851573   \n",
       "min      1.000000    1.000000    0.000000      0.000000      0.000000   \n",
       "25%      3.000000   50.000000   16.000000      1.000000      2.000000   \n",
       "50%      4.000000   67.500000   24.000000      2.000000      7.000000   \n",
       "75%      4.000000   87.000000   36.250000      5.000000     13.000000   \n",
       "max      4.000000  124.000000   95.000000     17.000000     39.000000   \n",
       "\n",
       "       2p_converted  2p_attempted  1p_converted  1p_attempted  \\\n",
       "count    196.000000    196.000000    196.000000    196.000000   \n",
       "mean       6.724490     12.897959      4.576531      6.020408   \n",
       "std        5.165528      8.793925      4.595344      5.644111   \n",
       "min        0.000000      0.000000      0.000000      0.000000   \n",
       "25%        3.000000      6.000000      1.000000      2.000000   \n",
       "50%        6.000000     11.000000      4.000000      5.000000   \n",
       "75%       10.000000     18.000000      7.000000      8.000000   \n",
       "max       31.000000     44.000000     33.000000     38.000000   \n",
       "\n",
       "       offensive_rebounds     ...         assists      steals   turnovers  \\\n",
       "count          196.000000     ...      196.000000  196.000000  196.000000   \n",
       "mean             3.153061     ...        5.122449    2.117347    4.275510   \n",
       "std              3.260807     ...        5.133630    1.919269    2.994972   \n",
       "min              0.000000     ...        0.000000    0.000000    0.000000   \n",
       "25%              1.000000     ...        1.000000    1.000000    2.000000   \n",
       "50%              2.000000     ...        3.000000    2.000000    4.000000   \n",
       "75%              4.000000     ...        7.000000    3.000000    6.000000   \n",
       "max             19.000000     ...       27.000000   11.000000   14.000000   \n",
       "\n",
       "           blocks  received_blocks       dunks      faults  received_faults  \\\n",
       "count  196.000000       196.000000  196.000000  196.000000       196.000000   \n",
       "mean     0.943878         0.882653    0.974490    6.867347         6.913265   \n",
       "std      1.529844         1.141975    1.500209    3.576670         5.205286   \n",
       "min      0.000000         0.000000    0.000000    0.000000         0.000000   \n",
       "25%      0.000000         0.000000    0.000000    4.000000         3.000000   \n",
       "50%      0.000000         1.000000    0.000000    7.000000         6.000000   \n",
       "75%      1.000000         1.000000    1.000000    9.000000         9.250000   \n",
       "max      7.000000         6.000000    8.000000   17.000000        30.000000   \n",
       "\n",
       "       plus_minus         pir  \n",
       "count  196.000000  196.000000  \n",
       "mean     0.535714   28.382653  \n",
       "std     21.015104   19.204206  \n",
       "min    -69.000000  -14.000000  \n",
       "25%    -14.000000   15.000000  \n",
       "50%      1.000000   25.000000  \n",
       "75%     14.250000   37.250000  \n",
       "max     56.000000   98.000000  \n",
       "\n",
       "[8 rows x 22 columns]"
      ]
     },
     "execution_count": 5,
     "metadata": {},
     "output_type": "execute_result"
    }
   ],
   "source": [
    "data.describe()"
   ]
  },
  {
   "cell_type": "markdown",
   "metadata": {},
   "source": [
    "## PIR and plus-minus"
   ]
  },
  {
   "cell_type": "code",
   "execution_count": 6,
   "metadata": {},
   "outputs": [
    {
     "data": {
      "text/plain": [
       "name\n",
       "Nikola Mirotic Stajovic           130\n",
       "Ferran Bassas Navarra             109\n",
       "Walter Samuel Tavares Da Veiga    101\n",
       "Giorgi Shermadini                 100\n",
       "Thaddus Dewayn Mcfadden           100\n",
       "Clark, Earl                        98\n",
       "Augusto Cesar Lima Brito           94\n",
       "Marcelo Tieppo Huertas             89\n",
       "Cheikh Moussa Diagné               88\n",
       "Brandon Davies                     87\n",
       "Costello, Matthew                  87\n",
       "Adams, Josh                        86\n",
       "Facundo Campazzo                   84\n",
       "Daniel Díez De La Faya             83\n",
       "Harper, Demonte                    80\n",
       "Gabriel Alejandro Deck             77\n",
       "Ondrej Balvin                      76\n",
       "Nicolás Laprovittola               73\n",
       "dtype: int64"
      ]
     },
     "execution_count": 6,
     "metadata": {},
     "output_type": "execute_result"
    }
   ],
   "source": [
    "data[['pir', 'plus_minus']].sum(axis=1).sort_values(ascending=False).head(18)"
   ]
  },
  {
   "cell_type": "markdown",
   "metadata": {},
   "source": [
    "## Offensive players"
   ]
  },
  {
   "cell_type": "code",
   "execution_count": 7,
   "metadata": {},
   "outputs": [
    {
     "data": {
      "text/plain": [
       "name\n",
       "Nikola Mirotic Stajovic           114\n",
       "Ferran Bassas Navarra             102\n",
       "Thaddus Dewayn Mcfadden           101\n",
       "Adams, Josh                        92\n",
       "Giorgi Shermadini                  90\n",
       "Augusto Cesar Lima Brito           84\n",
       "Harper, Demonte                    83\n",
       "Clark, Earl                        81\n",
       "Marcelo Tieppo Huertas             81\n",
       "Facundo Campazzo                   77\n",
       "Walter Samuel Tavares Da Veiga     77\n",
       "Cheikh Moussa Diagné               75\n",
       "Brandon Davies                     72\n",
       "Sergio Llull Meliá                 70\n",
       "Nicolás Laprovittola               70\n",
       "Jaycee Don Carroll                 69\n",
       "Vitor Alves Benite                 69\n",
       "Gabriel Alejandro Deck             69\n",
       "dtype: int64"
      ]
     },
     "execution_count": 7,
     "metadata": {},
     "output_type": "execute_result"
    }
   ],
   "source": [
    "(\n",
    "    data[\n",
    "        ['points', \n",
    "         'offensive_rebounds', \n",
    "         'assists', \n",
    "         'received_faults', \n",
    "         '3p_converted', \n",
    "         '2p_converted', \n",
    "         '1p_converted',\n",
    "         'plus_minus']\n",
    "    ].sum(axis=1) - \n",
    "    data[\n",
    "        ['3p_attempted', \n",
    "         '2p_attempted', \n",
    "         '1p_attempted',\n",
    "         'turnovers',\n",
    "         'received_blocks'\n",
    "        ]\n",
    "    ].sum(axis=1)\n",
    ").sort_values(ascending=False).head(18)"
   ]
  },
  {
   "cell_type": "markdown",
   "metadata": {},
   "source": [
    "## Deffensive players"
   ]
  },
  {
   "cell_type": "code",
   "execution_count": 8,
   "metadata": {},
   "outputs": [
    {
     "data": {
      "text/plain": [
       "name\n",
       "Walter Samuel Tavares Da Veiga    78\n",
       "Clark, Earl                       73\n",
       "Ferran Bassas Navarra             56\n",
       "Nikola Mirotic Stajovic           53\n",
       "Augusto Cesar Lima Brito          49\n",
       "Facundo Campazzo                  49\n",
       "Jonathan Barreiro Rodríguez       48\n",
       "Fabien Causeur                    47\n",
       "Usman Garuba Alari                43\n",
       "Jean-Pierre Tokoto II             43\n",
       "Costello, Matthew                 42\n",
       "Daniel Díez De La Faya            42\n",
       "Mickey, Jordan                    40\n",
       "Louis Labeyrie                    39\n",
       "Gabriel Alejandro Deck            38\n",
       "Nicolás Laprovittola              37\n",
       "Marcelo Tieppo Huertas            37\n",
       "Bojan Dubljevic                   37\n",
       "dtype: int64"
      ]
     },
     "execution_count": 8,
     "metadata": {},
     "output_type": "execute_result"
    }
   ],
   "source": [
    "(\n",
    "    data[\n",
    "        ['deffensive_rebounds', \n",
    "         'steals', \n",
    "         'blocks', \n",
    "         'plus_minus']\n",
    "    ].sum(axis=1) - data['faults']\n",
    ").sort_values(ascending=False).head(18)"
   ]
  },
  {
   "cell_type": "markdown",
   "metadata": {},
   "source": [
    "## Team players"
   ]
  },
  {
   "cell_type": "code",
   "execution_count": 9,
   "metadata": {},
   "outputs": [
    {
     "data": {
      "text/plain": [
       "name\n",
       "Clark, Earl                         65.5\n",
       "Fabien Causeur                      63.5\n",
       "Thomas Schreiner                    47.5\n",
       "Walter Samuel Tavares Da Veiga      45.5\n",
       "Jean-Pierre Tokoto II               45.5\n",
       "Vitor Alves Benite                  44.0\n",
       "Anthony Erwin Randolph Jr           43.0\n",
       "Adam Hanga                          42.0\n",
       "Rousselle, Jonathan                 40.5\n",
       "Omar Sharif Cook                    39.5\n",
       "Ferran Bassas Navarra               39.5\n",
       "Sergio Llull Meliá                  39.0\n",
       "Massenat, Frantz                    38.0\n",
       "Sakota, Dusan                       37.5\n",
       "Harper, Demonte                     36.5\n",
       "Higgins, Courdon                    36.0\n",
       "Rodrigo San Miguel de la Iglesia    36.0\n",
       "Delaney, Malcolm                    35.0\n",
       "dtype: float64"
      ]
     },
     "execution_count": 9,
     "metadata": {},
     "output_type": "execute_result"
    }
   ],
   "source": [
    "(data['plus_minus'] + data['minutes'] / 2 - data['pir']).sort_values(ascending=False).head(18)"
   ]
  },
  {
   "cell_type": "markdown",
   "metadata": {},
   "source": [
    "## Assists by turnover"
   ]
  },
  {
   "cell_type": "code",
   "execution_count": 10,
   "metadata": {},
   "outputs": [
    {
     "data": {
      "text/plain": [
       "name\n",
       "David Navarro Brugal                6.000000\n",
       "Omar Sharif Cook                    4.666667\n",
       "Rodrigo San Miguel de la Iglesia    4.200000\n",
       "Kelvin Creswell Rivers              4.000000\n",
       "Albert Oliver Campos                3.250000\n",
       "Sam Van Rossom                      3.166667\n",
       "John William Shurna                 3.000000\n",
       "Polonara, Achille                   3.000000\n",
       "Izundu, Ebuka                       3.000000\n",
       "Nicholas James Spires               3.000000\n",
       "Rinalds Malmanis                    3.000000\n",
       "Dovydas Giedraitis                  3.000000\n",
       "Luca Vildoza                        2.600000\n",
       "Daniel Pérez Otero                  2.600000\n",
       "Scrubb, Philip                      2.600000\n",
       "Earl Genard Calloway                2.500000\n",
       "Atkins, Darion                      2.500000\n",
       "Alberto Díaz Ortiz                  2.500000\n",
       "dtype: float64"
      ]
     },
     "execution_count": 10,
     "metadata": {},
     "output_type": "execute_result"
    }
   ],
   "source": [
    "((data['assists'] + 1) / (data['turnovers'] + 1)).sort_values(ascending=False).head(18)"
   ]
  },
  {
   "cell_type": "markdown",
   "metadata": {},
   "source": [
    "## Up in the air"
   ]
  },
  {
   "cell_type": "code",
   "execution_count": 11,
   "metadata": {},
   "outputs": [
    {
     "data": {
      "text/plain": [
       "name\n",
       "Lammers, Benjamin                 7\n",
       "Fall, Youssoupha                  6\n",
       "Mickey, Jordan                    4\n",
       "Ilimane Diop Gaye                 4\n",
       "Tryggvi Hlinason                  4\n",
       "Louis Labeyrie                    2\n",
       "Sy, Bandja                        2\n",
       "Walter Samuel Tavares Da Veiga    2\n",
       "Rolands Smits                     2\n",
       "Víctor Claver Arocas              1\n",
       "Pere Tomàs Noguera                1\n",
       "Javier Vega Merayo                1\n",
       "Vit Krejci                        1\n",
       "Joel Parra López                  1\n",
       "Alejandro Abrines Redondo         1\n",
       "Edgar Benjamin Vicedo Ayala       1\n",
       "Oriol Paulí Fornells              1\n",
       "Vyacheslav Bobrov                 1\n",
       "dtype: int64"
      ]
     },
     "execution_count": 11,
     "metadata": {},
     "output_type": "execute_result"
    }
   ],
   "source": [
    "(\n",
    "    data['dunks'] + data['blocks'] - data['received_blocks'] + data['2p_converted'] - data['2p_attempted']\n",
    ").sort_values(ascending=False).head(18)"
   ]
  },
  {
   "cell_type": "markdown",
   "metadata": {},
   "source": [
    "## Greedy"
   ]
  },
  {
   "cell_type": "code",
   "execution_count": 12,
   "metadata": {},
   "outputs": [
    {
     "data": {
      "text/plain": [
       "name\n",
       "Luke Cameron Harangody            121\n",
       "Klemen Prepelic                   104\n",
       "Alen Omic                          92\n",
       "Kravic, Dejan                      92\n",
       "Christian Eyenga Moenge            90\n",
       "Eddie, Jarell                      71\n",
       "Anderson, Karvel                   70\n",
       "EJ Rowland                         69\n",
       "Shayne Mitchell Whittington        69\n",
       "Konstantinos Vasileiadis           68\n",
       "Askia Toussaint Booker             67\n",
       "Magee, Fletcher                    64\n",
       "Davis, Jordan                      63\n",
       "Demitrius Rayelle Conger           61\n",
       "Dino Radoncic                      60\n",
       "Christopher Daniel Czerapowicz     58\n",
       "Nikos Zisis                        57\n",
       "Vladimir Brodziansky               56\n",
       "dtype: int64"
      ]
     },
     "execution_count": 12,
     "metadata": {},
     "output_type": "execute_result"
    }
   ],
   "source": [
    "(\n",
    "    data[['3p_attempted', '2p_attempted', 'turnovers', 'received_blocks']].sum(axis=1) - \n",
    "    data[['assists','plus_minus']].sum(axis=1)\n",
    ").sort_values(ascending=False).head(18)"
   ]
  },
  {
   "cell_type": "code",
   "execution_count": null,
   "metadata": {},
   "outputs": [],
   "source": []
  },
  {
   "cell_type": "code",
   "execution_count": null,
   "metadata": {},
   "outputs": [],
   "source": []
  }
 ],
 "metadata": {
  "kernelspec": {
   "display_name": "Python 3",
   "language": "python",
   "name": "python3"
  },
  "language_info": {
   "codemirror_mode": {
    "name": "ipython",
    "version": 3
   },
   "file_extension": ".py",
   "mimetype": "text/x-python",
   "name": "python",
   "nbconvert_exporter": "python",
   "pygments_lexer": "ipython3",
   "version": "3.7.0"
  }
 },
 "nbformat": 4,
 "nbformat_minor": 4
}
