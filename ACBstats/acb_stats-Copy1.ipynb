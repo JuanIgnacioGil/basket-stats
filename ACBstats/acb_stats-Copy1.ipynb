{
 "cells": [
  {
   "cell_type": "markdown",
   "metadata": {},
   "source": [
    "# New stats format in acb.com\n",
    "\n",
    "Playing with the new stats format in acb.com (launched in October 2019)"
   ]
  },
  {
   "cell_type": "code",
   "execution_count": 1,
   "metadata": {},
   "outputs": [],
   "source": [
    "import pandas as pd"
   ]
  },
  {
   "cell_type": "code",
   "execution_count": 2,
   "metadata": {},
   "outputs": [],
   "source": [
    "season = 2022\n",
    "urls = [\n",
    "    'http://www.acb.com/estadisticas-individuales/{}/temporada_id/{}/tipo_id/0'.format(x, season)\n",
    "    for x in \n",
    "    [\n",
    "        'valoracion', \n",
    "        'puntos', \n",
    "        'rebotes', \n",
    "        'asistencias', \n",
    "        'robos', 'tapones', \n",
    "        'mas-menos', \n",
    "        'minutos', \n",
    "        'tiros3', \n",
    "        'tiros3-porciento',\n",
    "        'tiros2', \n",
    "        'tiros2-porciento',\n",
    "        'tiros1', \n",
    "        'tiros1-porciento',\n",
    "        'rebotes-defensivos',\n",
    "        'rebotes-ofensivos',\n",
    "        'faltas-recibidas',\n",
    "        'faltas-cometidas',\n",
    "        'mates'\n",
    "    ]\n",
    "]"
   ]
  },
  {
   "cell_type": "code",
   "execution_count": 3,
   "metadata": {},
   "outputs": [],
   "source": [
    "data = pd.concat([pd.read_html(url)[0].iloc[:, 1:] for url in urls], axis=0).drop_duplicates()"
   ]
  },
  {
   "cell_type": "code",
   "execution_count": 4,
   "metadata": {},
   "outputs": [],
   "source": [
    "data.columns = [\n",
    "    'name', 'games', 'minutes', 'points',\n",
    "    '3p_converted', '3p_attempted', '3p_percentage',\n",
    "    '2p_converted', '2p_attempted', '2p_percentage',\n",
    "    '1p_converted', '1p_attempted', '1p_percentage',\n",
    "    'offensive_rebounds', 'deffensive_rebounds', 'rebounds',\n",
    "    'assists', 'steals', 'turnovers',\n",
    "    'blocks', 'received_blocks',\n",
    "    'dunks', 'faults', 'received_faults',\n",
    "    'plus_minus', 'pir'\n",
    "]\n",
    "data = data.set_index('name')"
   ]
  },
  {
   "cell_type": "code",
   "execution_count": 5,
   "metadata": {},
   "outputs": [
    {
     "data": {
      "text/html": [
       "<div>\n",
       "<style scoped>\n",
       "    .dataframe tbody tr th:only-of-type {\n",
       "        vertical-align: middle;\n",
       "    }\n",
       "\n",
       "    .dataframe tbody tr th {\n",
       "        vertical-align: top;\n",
       "    }\n",
       "\n",
       "    .dataframe thead th {\n",
       "        text-align: right;\n",
       "    }\n",
       "</style>\n",
       "<table border=\"1\" class=\"dataframe\">\n",
       "  <thead>\n",
       "    <tr style=\"text-align: right;\">\n",
       "      <th></th>\n",
       "      <th>games</th>\n",
       "      <th>minutes</th>\n",
       "      <th>points</th>\n",
       "      <th>3p_converted</th>\n",
       "      <th>3p_attempted</th>\n",
       "      <th>2p_converted</th>\n",
       "      <th>2p_attempted</th>\n",
       "      <th>1p_converted</th>\n",
       "      <th>1p_attempted</th>\n",
       "      <th>offensive_rebounds</th>\n",
       "      <th>...</th>\n",
       "      <th>assists</th>\n",
       "      <th>steals</th>\n",
       "      <th>turnovers</th>\n",
       "      <th>blocks</th>\n",
       "      <th>received_blocks</th>\n",
       "      <th>dunks</th>\n",
       "      <th>faults</th>\n",
       "      <th>received_faults</th>\n",
       "      <th>plus_minus</th>\n",
       "      <th>pir</th>\n",
       "    </tr>\n",
       "  </thead>\n",
       "  <tbody>\n",
       "    <tr>\n",
       "      <th>count</th>\n",
       "      <td>216.000000</td>\n",
       "      <td>216.000000</td>\n",
       "      <td>216.000000</td>\n",
       "      <td>216.000000</td>\n",
       "      <td>216.000000</td>\n",
       "      <td>216.000000</td>\n",
       "      <td>216.000000</td>\n",
       "      <td>216.000000</td>\n",
       "      <td>216.000000</td>\n",
       "      <td>216.000000</td>\n",
       "      <td>...</td>\n",
       "      <td>216.000000</td>\n",
       "      <td>216.000000</td>\n",
       "      <td>216.000000</td>\n",
       "      <td>216.000000</td>\n",
       "      <td>216.000000</td>\n",
       "      <td>216.000000</td>\n",
       "      <td>216.000000</td>\n",
       "      <td>216.000000</td>\n",
       "      <td>216.000000</td>\n",
       "      <td>216.000000</td>\n",
       "    </tr>\n",
       "    <tr>\n",
       "      <th>mean</th>\n",
       "      <td>22.023148</td>\n",
       "      <td>422.231481</td>\n",
       "      <td>176.569444</td>\n",
       "      <td>19.458333</td>\n",
       "      <td>55.240741</td>\n",
       "      <td>43.768519</td>\n",
       "      <td>80.953704</td>\n",
       "      <td>30.657407</td>\n",
       "      <td>41.129630</td>\n",
       "      <td>19.921296</td>\n",
       "      <td>...</td>\n",
       "      <td>36.120370</td>\n",
       "      <td>15.027778</td>\n",
       "      <td>26.685185</td>\n",
       "      <td>5.754630</td>\n",
       "      <td>5.296296</td>\n",
       "      <td>5.796296</td>\n",
       "      <td>41.837963</td>\n",
       "      <td>42.726852</td>\n",
       "      <td>6.893519</td>\n",
       "      <td>188.064815</td>\n",
       "    </tr>\n",
       "    <tr>\n",
       "      <th>std</th>\n",
       "      <td>7.849421</td>\n",
       "      <td>199.178994</td>\n",
       "      <td>102.436707</td>\n",
       "      <td>17.718683</td>\n",
       "      <td>46.325214</td>\n",
       "      <td>31.170680</td>\n",
       "      <td>55.091026</td>\n",
       "      <td>22.771938</td>\n",
       "      <td>29.439601</td>\n",
       "      <td>16.379747</td>\n",
       "      <td>...</td>\n",
       "      <td>36.444215</td>\n",
       "      <td>10.071335</td>\n",
       "      <td>17.072566</td>\n",
       "      <td>8.467721</td>\n",
       "      <td>3.966744</td>\n",
       "      <td>8.480083</td>\n",
       "      <td>20.602701</td>\n",
       "      <td>27.840817</td>\n",
       "      <td>96.878263</td>\n",
       "      <td>118.333763</td>\n",
       "    </tr>\n",
       "    <tr>\n",
       "      <th>min</th>\n",
       "      <td>1.000000</td>\n",
       "      <td>0.000000</td>\n",
       "      <td>2.000000</td>\n",
       "      <td>0.000000</td>\n",
       "      <td>0.000000</td>\n",
       "      <td>0.000000</td>\n",
       "      <td>0.000000</td>\n",
       "      <td>0.000000</td>\n",
       "      <td>0.000000</td>\n",
       "      <td>0.000000</td>\n",
       "      <td>...</td>\n",
       "      <td>0.000000</td>\n",
       "      <td>0.000000</td>\n",
       "      <td>0.000000</td>\n",
       "      <td>0.000000</td>\n",
       "      <td>0.000000</td>\n",
       "      <td>0.000000</td>\n",
       "      <td>0.000000</td>\n",
       "      <td>0.000000</td>\n",
       "      <td>-252.000000</td>\n",
       "      <td>-5.000000</td>\n",
       "    </tr>\n",
       "    <tr>\n",
       "      <th>25%</th>\n",
       "      <td>19.000000</td>\n",
       "      <td>272.250000</td>\n",
       "      <td>109.750000</td>\n",
       "      <td>4.000000</td>\n",
       "      <td>13.750000</td>\n",
       "      <td>18.000000</td>\n",
       "      <td>34.750000</td>\n",
       "      <td>13.000000</td>\n",
       "      <td>20.000000</td>\n",
       "      <td>7.000000</td>\n",
       "      <td>...</td>\n",
       "      <td>10.000000</td>\n",
       "      <td>7.000000</td>\n",
       "      <td>15.000000</td>\n",
       "      <td>1.000000</td>\n",
       "      <td>2.000000</td>\n",
       "      <td>0.000000</td>\n",
       "      <td>27.750000</td>\n",
       "      <td>24.000000</td>\n",
       "      <td>-53.500000</td>\n",
       "      <td>102.750000</td>\n",
       "    </tr>\n",
       "    <tr>\n",
       "      <th>50%</th>\n",
       "      <td>25.000000</td>\n",
       "      <td>454.500000</td>\n",
       "      <td>180.000000</td>\n",
       "      <td>15.000000</td>\n",
       "      <td>51.000000</td>\n",
       "      <td>38.500000</td>\n",
       "      <td>78.000000</td>\n",
       "      <td>27.000000</td>\n",
       "      <td>39.000000</td>\n",
       "      <td>16.000000</td>\n",
       "      <td>...</td>\n",
       "      <td>23.500000</td>\n",
       "      <td>13.500000</td>\n",
       "      <td>25.000000</td>\n",
       "      <td>3.000000</td>\n",
       "      <td>5.000000</td>\n",
       "      <td>2.000000</td>\n",
       "      <td>43.000000</td>\n",
       "      <td>39.500000</td>\n",
       "      <td>-8.500000</td>\n",
       "      <td>183.000000</td>\n",
       "    </tr>\n",
       "    <tr>\n",
       "      <th>75%</th>\n",
       "      <td>28.000000</td>\n",
       "      <td>566.000000</td>\n",
       "      <td>240.250000</td>\n",
       "      <td>31.000000</td>\n",
       "      <td>89.000000</td>\n",
       "      <td>64.250000</td>\n",
       "      <td>120.000000</td>\n",
       "      <td>42.250000</td>\n",
       "      <td>55.250000</td>\n",
       "      <td>28.000000</td>\n",
       "      <td>...</td>\n",
       "      <td>47.500000</td>\n",
       "      <td>22.000000</td>\n",
       "      <td>37.000000</td>\n",
       "      <td>7.000000</td>\n",
       "      <td>8.000000</td>\n",
       "      <td>9.000000</td>\n",
       "      <td>55.250000</td>\n",
       "      <td>62.000000</td>\n",
       "      <td>75.000000</td>\n",
       "      <td>266.750000</td>\n",
       "    </tr>\n",
       "    <tr>\n",
       "      <th>max</th>\n",
       "      <td>29.000000</td>\n",
       "      <td>829.000000</td>\n",
       "      <td>433.000000</td>\n",
       "      <td>81.000000</td>\n",
       "      <td>220.000000</td>\n",
       "      <td>156.000000</td>\n",
       "      <td>285.000000</td>\n",
       "      <td>129.000000</td>\n",
       "      <td>145.000000</td>\n",
       "      <td>87.000000</td>\n",
       "      <td>...</td>\n",
       "      <td>191.000000</td>\n",
       "      <td>57.000000</td>\n",
       "      <td>81.000000</td>\n",
       "      <td>53.000000</td>\n",
       "      <td>22.000000</td>\n",
       "      <td>45.000000</td>\n",
       "      <td>88.000000</td>\n",
       "      <td>120.000000</td>\n",
       "      <td>241.000000</td>\n",
       "      <td>510.000000</td>\n",
       "    </tr>\n",
       "  </tbody>\n",
       "</table>\n",
       "<p>8 rows × 22 columns</p>\n",
       "</div>"
      ],
      "text/plain": [
       "            games     minutes      points  3p_converted  3p_attempted   \n",
       "count  216.000000  216.000000  216.000000    216.000000    216.000000  \\\n",
       "mean    22.023148  422.231481  176.569444     19.458333     55.240741   \n",
       "std      7.849421  199.178994  102.436707     17.718683     46.325214   \n",
       "min      1.000000    0.000000    2.000000      0.000000      0.000000   \n",
       "25%     19.000000  272.250000  109.750000      4.000000     13.750000   \n",
       "50%     25.000000  454.500000  180.000000     15.000000     51.000000   \n",
       "75%     28.000000  566.000000  240.250000     31.000000     89.000000   \n",
       "max     29.000000  829.000000  433.000000     81.000000    220.000000   \n",
       "\n",
       "       2p_converted  2p_attempted  1p_converted  1p_attempted   \n",
       "count    216.000000    216.000000    216.000000    216.000000  \\\n",
       "mean      43.768519     80.953704     30.657407     41.129630   \n",
       "std       31.170680     55.091026     22.771938     29.439601   \n",
       "min        0.000000      0.000000      0.000000      0.000000   \n",
       "25%       18.000000     34.750000     13.000000     20.000000   \n",
       "50%       38.500000     78.000000     27.000000     39.000000   \n",
       "75%       64.250000    120.000000     42.250000     55.250000   \n",
       "max      156.000000    285.000000    129.000000    145.000000   \n",
       "\n",
       "       offensive_rebounds  ...     assists      steals   turnovers   \n",
       "count          216.000000  ...  216.000000  216.000000  216.000000  \\\n",
       "mean            19.921296  ...   36.120370   15.027778   26.685185   \n",
       "std             16.379747  ...   36.444215   10.071335   17.072566   \n",
       "min              0.000000  ...    0.000000    0.000000    0.000000   \n",
       "25%              7.000000  ...   10.000000    7.000000   15.000000   \n",
       "50%             16.000000  ...   23.500000   13.500000   25.000000   \n",
       "75%             28.000000  ...   47.500000   22.000000   37.000000   \n",
       "max             87.000000  ...  191.000000   57.000000   81.000000   \n",
       "\n",
       "           blocks  received_blocks       dunks      faults  received_faults   \n",
       "count  216.000000       216.000000  216.000000  216.000000       216.000000  \\\n",
       "mean     5.754630         5.296296    5.796296   41.837963        42.726852   \n",
       "std      8.467721         3.966744    8.480083   20.602701        27.840817   \n",
       "min      0.000000         0.000000    0.000000    0.000000         0.000000   \n",
       "25%      1.000000         2.000000    0.000000   27.750000        24.000000   \n",
       "50%      3.000000         5.000000    2.000000   43.000000        39.500000   \n",
       "75%      7.000000         8.000000    9.000000   55.250000        62.000000   \n",
       "max     53.000000        22.000000   45.000000   88.000000       120.000000   \n",
       "\n",
       "       plus_minus         pir  \n",
       "count  216.000000  216.000000  \n",
       "mean     6.893519  188.064815  \n",
       "std     96.878263  118.333763  \n",
       "min   -252.000000   -5.000000  \n",
       "25%    -53.500000  102.750000  \n",
       "50%     -8.500000  183.000000  \n",
       "75%     75.000000  266.750000  \n",
       "max    241.000000  510.000000  \n",
       "\n",
       "[8 rows x 22 columns]"
      ]
     },
     "execution_count": 5,
     "metadata": {},
     "output_type": "execute_result"
    }
   ],
   "source": [
    "data.describe()"
   ]
  },
  {
   "cell_type": "markdown",
   "metadata": {},
   "source": [
    "## PIR and plus-minus"
   ]
  },
  {
   "cell_type": "code",
   "execution_count": 6,
   "metadata": {},
   "outputs": [
    {
     "data": {
      "text/plain": [
       "name\n",
       "Dzanan Musa           693\n",
       "Edy Tavares           624\n",
       "Darius Thompson       608\n",
       "Matt Costello         603\n",
       "Giorgi Shermadini     597\n",
       "Nico Laprovittola     596\n",
       "Ante Tomic            567\n",
       "Nico Brussino         556\n",
       "Maik Kotsar           549\n",
       "Kendrick Perry        543\n",
       "Tomas Satoransky      505\n",
       "Ethan Happ            502\n",
       "Aaron Doornekamp      494\n",
       "David Kravish         492\n",
       "Chris Jones           489\n",
       "Andres Feliz          483\n",
       "Vincent Poirier       469\n",
       "Marcelinho Huertas    455\n",
       "Dylan Osetkowski      451\n",
       "dtype: int64"
      ]
     },
     "execution_count": 6,
     "metadata": {},
     "output_type": "execute_result"
    }
   ],
   "source": [
    "data[['pir', 'plus_minus']].sum(axis=1).sort_values(ascending=False).head(19)"
   ]
  },
  {
   "cell_type": "markdown",
   "metadata": {},
   "source": [
    "## Offensive players"
   ]
  },
  {
   "cell_type": "code",
   "execution_count": 7,
   "metadata": {},
   "outputs": [
    {
     "data": {
      "text/plain": [
       "name\n",
       "Dzanan Musa           648\n",
       "Nico Laprovittola     577\n",
       "Darius Thompson       571\n",
       "Giorgi Shermadini     554\n",
       "Kendrick Perry        529\n",
       "Edy Tavares           513\n",
       "Matt Costello         510\n",
       "Maik Kotsar           484\n",
       "Ante Tomic            475\n",
       "Tomas Satoransky      466\n",
       "Andres Feliz          463\n",
       "Chris Jones           458\n",
       "Markus Howard         452\n",
       "Nico Brussino         452\n",
       "Aaron Doornekamp      439\n",
       "Vincent Poirier       425\n",
       "Marcelinho Huertas    424\n",
       "David Kravish         415\n",
       "Dylan Osetkowski      394\n",
       "dtype: int64"
      ]
     },
     "execution_count": 7,
     "metadata": {},
     "output_type": "execute_result"
    }
   ],
   "source": [
    "(\n",
    "    data[\n",
    "        ['points', \n",
    "         'offensive_rebounds', \n",
    "         'assists', \n",
    "         'received_faults', \n",
    "         '3p_converted', \n",
    "         '2p_converted', \n",
    "         '1p_converted',\n",
    "         'plus_minus']\n",
    "    ].sum(axis=1) - \n",
    "    data[\n",
    "        ['3p_attempted', \n",
    "         '2p_attempted', \n",
    "         '1p_attempted',\n",
    "         'turnovers',\n",
    "         'received_blocks'\n",
    "        ]\n",
    "    ].sum(axis=1)\n",
    ").sort_values(ascending=False).head(19)"
   ]
  },
  {
   "cell_type": "markdown",
   "metadata": {},
   "source": [
    "## Deffensive players"
   ]
  },
  {
   "cell_type": "code",
   "execution_count": 8,
   "metadata": {},
   "outputs": [
    {
     "data": {
      "text/plain": [
       "name\n",
       "Matt Costello        324\n",
       "Edy Tavares          298\n",
       "Aaron Doornekamp     296\n",
       "David Kravish        275\n",
       "Dzanan Musa          275\n",
       "Darius Thompson      258\n",
       "Tomas Satoransky     243\n",
       "Nico Laprovittola    236\n",
       "Maik Kotsar          233\n",
       "Nico Brussino        232\n",
       "Gabriel Deck         230\n",
       "Vincent Poirier      221\n",
       "Nikola Mirotic       220\n",
       "Dylan Osetkowski     219\n",
       "Petr Cornelie        217\n",
       "Henry Ellenson       201\n",
       "Joel Parra           194\n",
       "Nikola Kalinic       189\n",
       "Sertac Sanli         187\n",
       "dtype: int64"
      ]
     },
     "execution_count": 8,
     "metadata": {},
     "output_type": "execute_result"
    }
   ],
   "source": [
    "(\n",
    "    data[\n",
    "        ['deffensive_rebounds', \n",
    "         'steals', \n",
    "         'blocks', \n",
    "         'plus_minus']\n",
    "    ].sum(axis=1) - data['faults']\n",
    ").sort_values(ascending=False).head(19)"
   ]
  },
  {
   "cell_type": "markdown",
   "metadata": {},
   "source": [
    "## Team players"
   ]
  },
  {
   "cell_type": "code",
   "execution_count": 9,
   "metadata": {},
   "outputs": [
    {
     "data": {
      "text/plain": [
       "name\n",
       "Aaron Doornekamp    303.5\n",
       "Bruno Fitipaldo     277.0\n",
       "Arturs Kurucs       256.5\n",
       "Petr Cornelie       254.0\n",
       "Tyler Kalinoski     249.5\n",
       "Sasu Salin          246.5\n",
       "AJ Slaughter        234.0\n",
       "Fabien Causeur      206.5\n",
       "Álex Abrines        203.0\n",
       "Guillem Vives       198.0\n",
       "Pep Busquets        192.5\n",
       "Andrew Albicy       190.5\n",
       "Tomas Satoransky    184.5\n",
       "Elgin Cook          184.5\n",
       "Sertac Sanli        184.0\n",
       "David Kravish       182.0\n",
       "Dairis Bertans      182.0\n",
       "Jonah Radebaugh     176.5\n",
       "Henry Ellenson      176.0\n",
       "dtype: float64"
      ]
     },
     "execution_count": 9,
     "metadata": {},
     "output_type": "execute_result"
    }
   ],
   "source": [
    "(data['plus_minus'] + data['minutes'] / 2 - data['pir']).sort_values(ascending=False).head(19)"
   ]
  },
  {
   "cell_type": "markdown",
   "metadata": {},
   "source": [
    "## Assists by turnover"
   ]
  },
  {
   "cell_type": "code",
   "execution_count": 10,
   "metadata": {},
   "outputs": [
    {
     "data": {
      "text/plain": [
       "name\n",
       "Guillem Jou            4.000000\n",
       "Kendrick Perry         3.962963\n",
       "Edgar Vicedo           3.600000\n",
       "Darius Thompson        3.340000\n",
       "Alberto Díaz           3.233333\n",
       "Pierre Oriola          3.000000\n",
       "Dani Pérez             2.838710\n",
       "Tadas Sedekerskis      2.818182\n",
       "Ludde Hakanson         2.710526\n",
       "Nigel Williams-Goss    2.705882\n",
       "Andrew Albicy          2.695652\n",
       "Dani Díez              2.666667\n",
       "Sergio Llull           2.636364\n",
       "Guillem Vives          2.560976\n",
       "Rokas Jokubaitis       2.533333\n",
       "Martin Hermannsson     2.500000\n",
       "Jovan Novak            2.461538\n",
       "Jeremy Senglin         2.454545\n",
       "Pierria Henry          2.444444\n",
       "dtype: float64"
      ]
     },
     "execution_count": 10,
     "metadata": {},
     "output_type": "execute_result"
    }
   ],
   "source": [
    "((data['assists'] + 1) / (data['turnovers'] + 1)).sort_values(ascending=False).head(19)"
   ]
  },
  {
   "cell_type": "markdown",
   "metadata": {},
   "source": [
    "## Up in the air"
   ]
  },
  {
   "cell_type": "code",
   "execution_count": 11,
   "metadata": {},
   "outputs": [
    {
     "data": {
      "text/plain": [
       "name\n",
       "Tryggvi Hlinason           67\n",
       "Matt Costello              26\n",
       "Edy Tavares                25\n",
       "Olek Balcerowski           15\n",
       "Marcus Lee                 10\n",
       "Petit Niang                10\n",
       "Aday Mara                   7\n",
       "Aaron Doornekamp            6\n",
       "Musa Sagnia                 4\n",
       "Denzel Andersson            4\n",
       "James Nnaji                 3\n",
       "Kyle Alexander              2\n",
       "Rubén López De La Torre     2\n",
       "David Mutaf                 0\n",
       "Bassala Bagayoko            0\n",
       "Albert Ventura              0\n",
       "Hugo González               0\n",
       "Sergi Martínez              0\n",
       "Rodrigo Diaz                0\n",
       "dtype: int64"
      ]
     },
     "execution_count": 11,
     "metadata": {},
     "output_type": "execute_result"
    }
   ],
   "source": [
    "(\n",
    "    data['dunks'] + data['blocks'] - data['received_blocks'] + data['2p_converted'] - data['2p_attempted']\n",
    ").sort_values(ascending=False).head(19)"
   ]
  },
  {
   "cell_type": "markdown",
   "metadata": {},
   "source": [
    "## Greedy"
   ]
  },
  {
   "cell_type": "code",
   "execution_count": 12,
   "metadata": {},
   "outputs": [
    {
     "data": {
      "text/plain": [
       "name\n",
       "Thomas Bropleh       563\n",
       "Lasan Kromah         520\n",
       "Jerrick Harding      514\n",
       "Prince Ali           470\n",
       "Shannon Evans        426\n",
       "BJ Johnson           395\n",
       "Lluis Costa          363\n",
       "Kameron Taylor       358\n",
       "Michale Kyser        357\n",
       "Kassius Robertson    356\n",
       "Marc Garcia          351\n",
       "Máximo Fjellerup     348\n",
       "Alex Renfroe         333\n",
       "Tyson Pérez          318\n",
       "Adam Smith           314\n",
       "Santi Yusta          308\n",
       "Thad McFadden        304\n",
       "Jeremiah Hill        302\n",
       "Luke Maye            297\n",
       "dtype: int64"
      ]
     },
     "execution_count": 12,
     "metadata": {},
     "output_type": "execute_result"
    }
   ],
   "source": [
    "(\n",
    "    data[['3p_attempted', '2p_attempted', 'turnovers', 'received_blocks']].sum(axis=1) - \n",
    "    data[['assists','plus_minus']].sum(axis=1)\n",
    ").sort_values(ascending=False).head(19)"
   ]
  },
  {
   "cell_type": "code",
   "execution_count": null,
   "metadata": {},
   "outputs": [],
   "source": []
  },
  {
   "cell_type": "code",
   "execution_count": null,
   "metadata": {},
   "outputs": [],
   "source": []
  }
 ],
 "metadata": {
  "kernelspec": {
   "display_name": "Python 3 (ipykernel)",
   "language": "python",
   "name": "python3"
  },
  "language_info": {
   "codemirror_mode": {
    "name": "ipython",
    "version": 3
   },
   "file_extension": ".py",
   "mimetype": "text/x-python",
   "name": "python",
   "nbconvert_exporter": "python",
   "pygments_lexer": "ipython3",
   "version": "3.9.6"
  }
 },
 "nbformat": 4,
 "nbformat_minor": 4
}
