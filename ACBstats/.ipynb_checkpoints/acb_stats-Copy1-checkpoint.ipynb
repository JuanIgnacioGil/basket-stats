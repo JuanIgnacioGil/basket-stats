{
 "cells": [
  {
   "cell_type": "markdown",
   "metadata": {},
   "source": [
    "# New stats format in acb.com\n",
    "\n",
    "Playing with the new stats format in acb.com (launched in October 2019)"
   ]
  },
  {
   "cell_type": "code",
   "execution_count": 1,
   "metadata": {},
   "outputs": [],
   "source": [
    "import pandas as pd"
   ]
  },
  {
   "cell_type": "code",
   "execution_count": 2,
   "metadata": {},
   "outputs": [],
   "source": [
    "season = 2022\n",
    "urls = [\n",
    "    'http://www.acb.com/estadisticas-individuales/{}/temporada_id/{}/tipo_id/0'.format(x, season)\n",
    "    for x in \n",
    "    [\n",
    "        'valoracion', \n",
    "        'puntos', \n",
    "        'rebotes', \n",
    "        'asistencias', \n",
    "        'robos', 'tapones', \n",
    "        'mas-menos', \n",
    "        'minutos', \n",
    "        'tiros3', \n",
    "        'tiros3-porciento',\n",
    "        'tiros2', \n",
    "        'tiros2-porciento',\n",
    "        'tiros1', \n",
    "        'tiros1-porciento',\n",
    "        'rebotes-defensivos',\n",
    "        'rebotes-ofensivos',\n",
    "        'faltas-recibidas',\n",
    "        'faltas-cometidas',\n",
    "        'mates'\n",
    "    ]\n",
    "]"
   ]
  },
  {
   "cell_type": "code",
   "execution_count": 3,
   "metadata": {},
   "outputs": [],
   "source": [
    "data = pd.concat([pd.read_html(url)[0].iloc[:, 1:] for url in urls], axis=0).drop_duplicates()"
   ]
  },
  {
   "cell_type": "code",
   "execution_count": 4,
   "metadata": {},
   "outputs": [],
   "source": [
    "data.columns = [\n",
    "    'name', 'games', 'minutes', 'points',\n",
    "    '3p_converted', '3p_attempted', '3p_percentage',\n",
    "    '2p_converted', '2p_attempted', '2p_percentage',\n",
    "    '1p_converted', '1p_attempted', '1p_percentage',\n",
    "    'offensive_rebounds', 'deffensive_rebounds', 'rebounds',\n",
    "    'assists', 'steals', 'turnovers',\n",
    "    'blocks', 'received_blocks',\n",
    "    'dunks', 'faults', 'received_faults',\n",
    "    'plus_minus', 'pir'\n",
    "]\n",
    "data = data.set_index('name')"
   ]
  },
  {
   "cell_type": "code",
   "execution_count": 5,
   "metadata": {},
   "outputs": [
    {
     "data": {
      "text/html": [
       "<div>\n",
       "<style scoped>\n",
       "    .dataframe tbody tr th:only-of-type {\n",
       "        vertical-align: middle;\n",
       "    }\n",
       "\n",
       "    .dataframe tbody tr th {\n",
       "        vertical-align: top;\n",
       "    }\n",
       "\n",
       "    .dataframe thead th {\n",
       "        text-align: right;\n",
       "    }\n",
       "</style>\n",
       "<table border=\"1\" class=\"dataframe\">\n",
       "  <thead>\n",
       "    <tr style=\"text-align: right;\">\n",
       "      <th></th>\n",
       "      <th>games</th>\n",
       "      <th>minutes</th>\n",
       "      <th>points</th>\n",
       "      <th>3p_converted</th>\n",
       "      <th>3p_attempted</th>\n",
       "      <th>2p_converted</th>\n",
       "      <th>2p_attempted</th>\n",
       "      <th>1p_converted</th>\n",
       "      <th>1p_attempted</th>\n",
       "      <th>offensive_rebounds</th>\n",
       "      <th>...</th>\n",
       "      <th>assists</th>\n",
       "      <th>steals</th>\n",
       "      <th>turnovers</th>\n",
       "      <th>blocks</th>\n",
       "      <th>received_blocks</th>\n",
       "      <th>dunks</th>\n",
       "      <th>faults</th>\n",
       "      <th>received_faults</th>\n",
       "      <th>plus_minus</th>\n",
       "      <th>pir</th>\n",
       "    </tr>\n",
       "  </thead>\n",
       "  <tbody>\n",
       "    <tr>\n",
       "      <th>count</th>\n",
       "      <td>215.000000</td>\n",
       "      <td>215.000000</td>\n",
       "      <td>215.000000</td>\n",
       "      <td>215.000000</td>\n",
       "      <td>215.000000</td>\n",
       "      <td>215.000000</td>\n",
       "      <td>215.000000</td>\n",
       "      <td>215.000000</td>\n",
       "      <td>215.000000</td>\n",
       "      <td>215.000000</td>\n",
       "      <td>...</td>\n",
       "      <td>215.000000</td>\n",
       "      <td>215.000000</td>\n",
       "      <td>215.000000</td>\n",
       "      <td>215.000000</td>\n",
       "      <td>215.000000</td>\n",
       "      <td>215.000000</td>\n",
       "      <td>215.000000</td>\n",
       "      <td>215.000000</td>\n",
       "      <td>215.000000</td>\n",
       "      <td>215.000000</td>\n",
       "    </tr>\n",
       "    <tr>\n",
       "      <th>mean</th>\n",
       "      <td>10.372093</td>\n",
       "      <td>195.655814</td>\n",
       "      <td>81.018605</td>\n",
       "      <td>8.976744</td>\n",
       "      <td>25.269767</td>\n",
       "      <td>19.874419</td>\n",
       "      <td>37.604651</td>\n",
       "      <td>14.339535</td>\n",
       "      <td>19.097674</td>\n",
       "      <td>9.153488</td>\n",
       "      <td>...</td>\n",
       "      <td>16.469767</td>\n",
       "      <td>7.120930</td>\n",
       "      <td>12.813953</td>\n",
       "      <td>2.669767</td>\n",
       "      <td>2.488372</td>\n",
       "      <td>2.520930</td>\n",
       "      <td>19.762791</td>\n",
       "      <td>20.120930</td>\n",
       "      <td>2.823256</td>\n",
       "      <td>85.148837</td>\n",
       "    </tr>\n",
       "    <tr>\n",
       "      <th>std</th>\n",
       "      <td>3.242700</td>\n",
       "      <td>87.296801</td>\n",
       "      <td>47.370676</td>\n",
       "      <td>8.530562</td>\n",
       "      <td>21.234819</td>\n",
       "      <td>14.069190</td>\n",
       "      <td>25.410407</td>\n",
       "      <td>11.175368</td>\n",
       "      <td>14.429809</td>\n",
       "      <td>7.709060</td>\n",
       "      <td>...</td>\n",
       "      <td>16.504255</td>\n",
       "      <td>4.865891</td>\n",
       "      <td>8.121898</td>\n",
       "      <td>3.850934</td>\n",
       "      <td>2.248282</td>\n",
       "      <td>3.682274</td>\n",
       "      <td>9.357615</td>\n",
       "      <td>13.625302</td>\n",
       "      <td>47.612694</td>\n",
       "      <td>54.361168</td>\n",
       "    </tr>\n",
       "    <tr>\n",
       "      <th>min</th>\n",
       "      <td>1.000000</td>\n",
       "      <td>3.000000</td>\n",
       "      <td>2.000000</td>\n",
       "      <td>0.000000</td>\n",
       "      <td>0.000000</td>\n",
       "      <td>0.000000</td>\n",
       "      <td>0.000000</td>\n",
       "      <td>0.000000</td>\n",
       "      <td>0.000000</td>\n",
       "      <td>0.000000</td>\n",
       "      <td>...</td>\n",
       "      <td>0.000000</td>\n",
       "      <td>0.000000</td>\n",
       "      <td>0.000000</td>\n",
       "      <td>0.000000</td>\n",
       "      <td>0.000000</td>\n",
       "      <td>0.000000</td>\n",
       "      <td>0.000000</td>\n",
       "      <td>0.000000</td>\n",
       "      <td>-121.000000</td>\n",
       "      <td>-1.000000</td>\n",
       "    </tr>\n",
       "    <tr>\n",
       "      <th>25%</th>\n",
       "      <td>9.000000</td>\n",
       "      <td>139.000000</td>\n",
       "      <td>47.000000</td>\n",
       "      <td>2.000000</td>\n",
       "      <td>6.000000</td>\n",
       "      <td>9.000000</td>\n",
       "      <td>19.000000</td>\n",
       "      <td>6.000000</td>\n",
       "      <td>8.000000</td>\n",
       "      <td>3.000000</td>\n",
       "      <td>...</td>\n",
       "      <td>5.000000</td>\n",
       "      <td>4.000000</td>\n",
       "      <td>7.000000</td>\n",
       "      <td>0.000000</td>\n",
       "      <td>1.000000</td>\n",
       "      <td>0.000000</td>\n",
       "      <td>13.000000</td>\n",
       "      <td>9.500000</td>\n",
       "      <td>-29.500000</td>\n",
       "      <td>46.000000</td>\n",
       "    </tr>\n",
       "    <tr>\n",
       "      <th>50%</th>\n",
       "      <td>12.000000</td>\n",
       "      <td>209.000000</td>\n",
       "      <td>76.000000</td>\n",
       "      <td>7.000000</td>\n",
       "      <td>22.000000</td>\n",
       "      <td>18.000000</td>\n",
       "      <td>34.000000</td>\n",
       "      <td>12.000000</td>\n",
       "      <td>16.000000</td>\n",
       "      <td>7.000000</td>\n",
       "      <td>...</td>\n",
       "      <td>11.000000</td>\n",
       "      <td>7.000000</td>\n",
       "      <td>12.000000</td>\n",
       "      <td>1.000000</td>\n",
       "      <td>2.000000</td>\n",
       "      <td>1.000000</td>\n",
       "      <td>20.000000</td>\n",
       "      <td>18.000000</td>\n",
       "      <td>-4.000000</td>\n",
       "      <td>78.000000</td>\n",
       "    </tr>\n",
       "    <tr>\n",
       "      <th>75%</th>\n",
       "      <td>12.500000</td>\n",
       "      <td>255.000000</td>\n",
       "      <td>111.500000</td>\n",
       "      <td>14.000000</td>\n",
       "      <td>38.000000</td>\n",
       "      <td>28.000000</td>\n",
       "      <td>53.000000</td>\n",
       "      <td>21.000000</td>\n",
       "      <td>28.500000</td>\n",
       "      <td>14.000000</td>\n",
       "      <td>...</td>\n",
       "      <td>21.000000</td>\n",
       "      <td>10.000000</td>\n",
       "      <td>18.000000</td>\n",
       "      <td>4.000000</td>\n",
       "      <td>4.000000</td>\n",
       "      <td>4.000000</td>\n",
       "      <td>26.000000</td>\n",
       "      <td>29.000000</td>\n",
       "      <td>39.500000</td>\n",
       "      <td>121.000000</td>\n",
       "    </tr>\n",
       "    <tr>\n",
       "      <th>max</th>\n",
       "      <td>13.000000</td>\n",
       "      <td>359.000000</td>\n",
       "      <td>219.000000</td>\n",
       "      <td>39.000000</td>\n",
       "      <td>101.000000</td>\n",
       "      <td>72.000000</td>\n",
       "      <td>126.000000</td>\n",
       "      <td>50.000000</td>\n",
       "      <td>67.000000</td>\n",
       "      <td>37.000000</td>\n",
       "      <td>...</td>\n",
       "      <td>93.000000</td>\n",
       "      <td>23.000000</td>\n",
       "      <td>37.000000</td>\n",
       "      <td>23.000000</td>\n",
       "      <td>13.000000</td>\n",
       "      <td>19.000000</td>\n",
       "      <td>40.000000</td>\n",
       "      <td>63.000000</td>\n",
       "      <td>127.000000</td>\n",
       "      <td>236.000000</td>\n",
       "    </tr>\n",
       "  </tbody>\n",
       "</table>\n",
       "<p>8 rows × 22 columns</p>\n",
       "</div>"
      ],
      "text/plain": [
       "            games     minutes      points  3p_converted  3p_attempted  \\\n",
       "count  215.000000  215.000000  215.000000    215.000000    215.000000   \n",
       "mean    10.372093  195.655814   81.018605      8.976744     25.269767   \n",
       "std      3.242700   87.296801   47.370676      8.530562     21.234819   \n",
       "min      1.000000    3.000000    2.000000      0.000000      0.000000   \n",
       "25%      9.000000  139.000000   47.000000      2.000000      6.000000   \n",
       "50%     12.000000  209.000000   76.000000      7.000000     22.000000   \n",
       "75%     12.500000  255.000000  111.500000     14.000000     38.000000   \n",
       "max     13.000000  359.000000  219.000000     39.000000    101.000000   \n",
       "\n",
       "       2p_converted  2p_attempted  1p_converted  1p_attempted  \\\n",
       "count    215.000000    215.000000    215.000000    215.000000   \n",
       "mean      19.874419     37.604651     14.339535     19.097674   \n",
       "std       14.069190     25.410407     11.175368     14.429809   \n",
       "min        0.000000      0.000000      0.000000      0.000000   \n",
       "25%        9.000000     19.000000      6.000000      8.000000   \n",
       "50%       18.000000     34.000000     12.000000     16.000000   \n",
       "75%       28.000000     53.000000     21.000000     28.500000   \n",
       "max       72.000000    126.000000     50.000000     67.000000   \n",
       "\n",
       "       offensive_rebounds  ...     assists      steals   turnovers  \\\n",
       "count          215.000000  ...  215.000000  215.000000  215.000000   \n",
       "mean             9.153488  ...   16.469767    7.120930   12.813953   \n",
       "std              7.709060  ...   16.504255    4.865891    8.121898   \n",
       "min              0.000000  ...    0.000000    0.000000    0.000000   \n",
       "25%              3.000000  ...    5.000000    4.000000    7.000000   \n",
       "50%              7.000000  ...   11.000000    7.000000   12.000000   \n",
       "75%             14.000000  ...   21.000000   10.000000   18.000000   \n",
       "max             37.000000  ...   93.000000   23.000000   37.000000   \n",
       "\n",
       "           blocks  received_blocks       dunks      faults  received_faults  \\\n",
       "count  215.000000       215.000000  215.000000  215.000000       215.000000   \n",
       "mean     2.669767         2.488372    2.520930   19.762791        20.120930   \n",
       "std      3.850934         2.248282    3.682274    9.357615        13.625302   \n",
       "min      0.000000         0.000000    0.000000    0.000000         0.000000   \n",
       "25%      0.000000         1.000000    0.000000   13.000000         9.500000   \n",
       "50%      1.000000         2.000000    1.000000   20.000000        18.000000   \n",
       "75%      4.000000         4.000000    4.000000   26.000000        29.000000   \n",
       "max     23.000000        13.000000   19.000000   40.000000        63.000000   \n",
       "\n",
       "       plus_minus         pir  \n",
       "count  215.000000  215.000000  \n",
       "mean     2.823256   85.148837  \n",
       "std     47.612694   54.361168  \n",
       "min   -121.000000   -1.000000  \n",
       "25%    -29.500000   46.000000  \n",
       "50%     -4.000000   78.000000  \n",
       "75%     39.500000  121.000000  \n",
       "max    127.000000  236.000000  \n",
       "\n",
       "[8 rows x 22 columns]"
      ]
     },
     "execution_count": 5,
     "metadata": {},
     "output_type": "execute_result"
    }
   ],
   "source": [
    "data.describe()"
   ]
  },
  {
   "cell_type": "markdown",
   "metadata": {},
   "source": [
    "## PIR and plus-minus"
   ]
  },
  {
   "cell_type": "code",
   "execution_count": 6,
   "metadata": {},
   "outputs": [
    {
     "data": {
      "text/plain": [
       "name\n",
       "Dzanan Musa          316\n",
       "Matt Costello        295\n",
       "Ante Tomic           280\n",
       "Chris Jones          272\n",
       "Edy Tavares          264\n",
       "Vincent Poirier      260\n",
       "Darius Thompson      243\n",
       "Daulton Hommes       231\n",
       "Jasiel Rivero        231\n",
       "Jeff Withey          231\n",
       "David Kravish        228\n",
       "Maik Kotsar          226\n",
       "Dylan Osetkowski     226\n",
       "Henry Ellenson       224\n",
       "Marc Gasol           217\n",
       "Sasu Salin           217\n",
       "Nico Laprovittola    214\n",
       "Ludde Hakanson       211\n",
       "Jan Vesely           211\n",
       "dtype: int64"
      ]
     },
     "execution_count": 6,
     "metadata": {},
     "output_type": "execute_result"
    }
   ],
   "source": [
    "data[['pir', 'plus_minus']].sum(axis=1).sort_values(ascending=False).head(19)"
   ]
  },
  {
   "cell_type": "markdown",
   "metadata": {},
   "source": [
    "## Offensive players"
   ]
  },
  {
   "cell_type": "code",
   "execution_count": 7,
   "metadata": {},
   "outputs": [
    {
     "data": {
      "text/plain": [
       "name\n",
       "Dzanan Musa          296\n",
       "Matt Costello        256\n",
       "Chris Jones          251\n",
       "Ante Tomic           242\n",
       "Vincent Poirier      241\n",
       "Daulton Hommes       229\n",
       "Darius Thompson      223\n",
       "Edy Tavares          218\n",
       "Jasiel Rivero        208\n",
       "Nico Laprovittola    206\n",
       "Sasu Salin           206\n",
       "Maik Kotsar          204\n",
       "Dylan Osetkowski     201\n",
       "Henry Ellenson       198\n",
       "David Kravish        198\n",
       "Jan Vesely           194\n",
       "Jeff Withey          193\n",
       "Ludde Hakanson       192\n",
       "Miquel Salvó         185\n",
       "dtype: int64"
      ]
     },
     "execution_count": 7,
     "metadata": {},
     "output_type": "execute_result"
    }
   ],
   "source": [
    "(\n",
    "    data[\n",
    "        ['points', \n",
    "         'offensive_rebounds', \n",
    "         'assists', \n",
    "         'received_faults', \n",
    "         '3p_converted', \n",
    "         '2p_converted', \n",
    "         '1p_converted',\n",
    "         'plus_minus']\n",
    "    ].sum(axis=1) - \n",
    "    data[\n",
    "        ['3p_attempted', \n",
    "         '2p_attempted', \n",
    "         '1p_attempted',\n",
    "         'turnovers',\n",
    "         'received_blocks'\n",
    "        ]\n",
    "    ].sum(axis=1)\n",
    ").sort_values(ascending=False).head(19)"
   ]
  },
  {
   "cell_type": "markdown",
   "metadata": {},
   "source": [
    "## Deffensive players"
   ]
  },
  {
   "cell_type": "code",
   "execution_count": 8,
   "metadata": {},
   "outputs": [
    {
     "data": {
      "text/plain": [
       "name\n",
       "Petr Cornelie        143\n",
       "Matt Costello        138\n",
       "Vincent Poirier      131\n",
       "Dzanan Musa          130\n",
       "Edy Tavares          124\n",
       "David Kravish        124\n",
       "Mario Hezonja        121\n",
       "Daulton Hommes       115\n",
       "Henry Ellenson       114\n",
       "Maik Kotsar          112\n",
       "Tadas Sedekerskis    111\n",
       "Dylan Osetkowski     104\n",
       "Sasu Salin           101\n",
       "Jeff Withey           99\n",
       "Joel Parra            97\n",
       "Nihad Djedovic        95\n",
       "Tim Abromaitis        93\n",
       "Nikola Kalinic        91\n",
       "Aaron Doornekamp      87\n",
       "dtype: int64"
      ]
     },
     "execution_count": 8,
     "metadata": {},
     "output_type": "execute_result"
    }
   ],
   "source": [
    "(\n",
    "    data[\n",
    "        ['deffensive_rebounds', \n",
    "         'steals', \n",
    "         'blocks', \n",
    "         'plus_minus']\n",
    "    ].sum(axis=1) - data['faults']\n",
    ").sort_values(ascending=False).head(19)"
   ]
  },
  {
   "cell_type": "markdown",
   "metadata": {},
   "source": [
    "## Team players"
   ]
  },
  {
   "cell_type": "code",
   "execution_count": 9,
   "metadata": {},
   "outputs": [
    {
     "data": {
      "text/plain": [
       "name\n",
       "Petr Cornelie       155.5\n",
       "Fabien Causeur      117.0\n",
       "Arturs Kurucs       117.0\n",
       "Guillem Vives       112.5\n",
       "Kendrick Perry      112.5\n",
       "Sasu Salin          112.0\n",
       "Aaron Doornekamp    110.0\n",
       "Adam Smith          107.5\n",
       "Tim Abromaitis      107.0\n",
       "Elgin Cook          106.0\n",
       "Tyler Kalinoski     102.5\n",
       "Daulton Hommes       96.5\n",
       "Xavi Rabaseda        96.0\n",
       "Pep Busquets         93.5\n",
       "Bruno Fitipaldo      92.0\n",
       "Joan Sastre          91.0\n",
       "AJ Slaughter         90.0\n",
       "Henry Ellenson       90.0\n",
       "Nihad Djedovic       86.5\n",
       "dtype: float64"
      ]
     },
     "execution_count": 9,
     "metadata": {},
     "output_type": "execute_result"
    }
   ],
   "source": [
    "(data['plus_minus'] + data['minutes'] / 2 - data['pir']).sort_values(ascending=False).head(19)"
   ]
  },
  {
   "cell_type": "markdown",
   "metadata": {},
   "source": [
    "## Assists by turnover"
   ]
  },
  {
   "cell_type": "code",
   "execution_count": 10,
   "metadata": {},
   "outputs": [
    {
     "data": {
      "text/plain": [
       "name\n",
       "Simon Birgander     10.000000\n",
       "Guillem Jou          6.000000\n",
       "Darius Thompson      3.291667\n",
       "Rudy Fernández       3.000000\n",
       "Tomás Bellas         3.000000\n",
       "Jasiel Rivero        3.000000\n",
       "Kendrick Perry       3.000000\n",
       "Edgar Vicedo         3.000000\n",
       "Iván Cruz            3.000000\n",
       "Rokas Jokubaitis     2.950000\n",
       "Dani Pérez           2.875000\n",
       "Sergio Llull         2.769231\n",
       "Guillem Vives        2.764706\n",
       "Chris Jones          2.680000\n",
       "Dani Díez            2.666667\n",
       "Jovan Novak          2.611111\n",
       "Alberto Díaz         2.588235\n",
       "Ludde Hakanson       2.521739\n",
       "Thomas Scrubb        2.500000\n",
       "dtype: float64"
      ]
     },
     "execution_count": 10,
     "metadata": {},
     "output_type": "execute_result"
    }
   ],
   "source": [
    "((data['assists'] + 1) / (data['turnovers'] + 1)).sort_values(ascending=False).head(19)"
   ]
  },
  {
   "cell_type": "markdown",
   "metadata": {},
   "source": [
    "## Up in the air"
   ]
  },
  {
   "cell_type": "code",
   "execution_count": 11,
   "metadata": {},
   "outputs": [
    {
     "data": {
      "text/plain": [
       "name\n",
       "Tryggvi Hlinason           25\n",
       "Marcus Lee                 10\n",
       "Matt Costello               8\n",
       "Petit Niang                 7\n",
       "Musa Sagnia                 6\n",
       "Víctor Arteaga              4\n",
       "Denzel Andersson            3\n",
       "Kyle Alexander              3\n",
       "Olek Balcerowski            3\n",
       "Rubén López De La Torre     2\n",
       "Luka Brajkovic              2\n",
       "David Iriarte               2\n",
       "Zsombor Maronka             1\n",
       "Martinas Geben              1\n",
       "Justin Hamilton             1\n",
       "Osas Ehigiator              1\n",
       "Edy Tavares                 1\n",
       "Guillem Ferrando            0\n",
       "Bassala Bagayoko            0\n",
       "dtype: int64"
      ]
     },
     "execution_count": 11,
     "metadata": {},
     "output_type": "execute_result"
    }
   ],
   "source": [
    "(\n",
    "    data['dunks'] + data['blocks'] - data['received_blocks'] + data['2p_converted'] - data['2p_attempted']\n",
    ").sort_values(ascending=False).head(19)"
   ]
  },
  {
   "cell_type": "markdown",
   "metadata": {},
   "source": [
    "## Greedy"
   ]
  },
  {
   "cell_type": "code",
   "execution_count": 12,
   "metadata": {},
   "outputs": [
    {
     "data": {
      "text/plain": [
       "name\n",
       "Jerrick Harding       299\n",
       "Dusan Ristic          241\n",
       "Thomas Bropleh        212\n",
       "Lasan Kromah          209\n",
       "Shannon Evans         208\n",
       "Jeremy Senglin        203\n",
       "BJ Johnson            201\n",
       "Kameron Taylor        188\n",
       "Máximo Fjellerup      184\n",
       "Cristiano Felicio     182\n",
       "Jeremiah Hill         179\n",
       "Justinian Jessup      174\n",
       "Santi Yusta           173\n",
       "Dairis Bertans        172\n",
       "Prince Ali            167\n",
       "Clevin Hannah         153\n",
       "Christian Mekowulu    151\n",
       "Jordan Davis          146\n",
       "Tyson Pérez           143\n",
       "dtype: int64"
      ]
     },
     "execution_count": 12,
     "metadata": {},
     "output_type": "execute_result"
    }
   ],
   "source": [
    "(\n",
    "    data[['3p_attempted', '2p_attempted', 'turnovers', 'received_blocks']].sum(axis=1) - \n",
    "    data[['assists','plus_minus']].sum(axis=1)\n",
    ").sort_values(ascending=False).head(19)"
   ]
  },
  {
   "cell_type": "code",
   "execution_count": null,
   "metadata": {},
   "outputs": [],
   "source": []
  },
  {
   "cell_type": "code",
   "execution_count": null,
   "metadata": {},
   "outputs": [],
   "source": []
  }
 ],
 "metadata": {
  "kernelspec": {
   "display_name": "Python 3 (ipykernel)",
   "language": "python",
   "name": "python3"
  },
  "language_info": {
   "codemirror_mode": {
    "name": "ipython",
    "version": 3
   },
   "file_extension": ".py",
   "mimetype": "text/x-python",
   "name": "python",
   "nbconvert_exporter": "python",
   "pygments_lexer": "ipython3",
   "version": "3.10.8"
  }
 },
 "nbformat": 4,
 "nbformat_minor": 4
}
